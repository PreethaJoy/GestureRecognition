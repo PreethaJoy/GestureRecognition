{
 "cells": [
  {
   "cell_type": "markdown",
   "metadata": {
    "colab_type": "text",
    "id": "view-in-github"
   },
   "source": [
    "<a href=\"https://colab.research.google.com/github/PreethaJoy/GestureRecognition/blob/master/Gesture_Recognition_Code.ipynb\" target=\"_parent\"><img src=\"https://colab.research.google.com/assets/colab-badge.svg\" alt=\"Open In Colab\"/></a>"
   ]
  },
  {
   "cell_type": "markdown",
   "metadata": {
    "colab_type": "text",
    "id": "AAC9CBB4O7kY"
   },
   "source": [
    "# Gesture Recognition\n",
    "In this group project, you are going to build a 3D Conv model that will be able to predict the 5 gestures correctly. Please import the following libraries to get started."
   ]
  },
  {
   "cell_type": "code",
   "execution_count": 67,
   "metadata": {
    "colab": {
     "base_uri": "https://localhost:8080/",
     "height": 391
    },
    "colab_type": "code",
    "id": "OokzOlRIBZpf",
    "outputId": "ea418698-b9b8-4f6b-8de8-dd54e0f21678"
   },
   "outputs": [
    {
     "name": "stdout",
     "output_type": "stream",
     "text": [
      "Collecting tensorflow-gpu==1.14.0\n",
      "  Using cached https://files.pythonhosted.org/packages/76/04/43153bfdfcf6c9a4c38ecdb971ca9a75b9a791bb69a764d652c359aca504/tensorflow_gpu-1.14.0-cp36-cp36m-manylinux1_x86_64.whl\n",
      "Requirement already satisfied: grpcio>=1.8.6 in /mnt/disks/user/anaconda3/lib/python3.6/site-packages (from tensorflow-gpu==1.14.0) (1.15.0)\n",
      "Requirement already satisfied: tensorflow-estimator<1.15.0rc0,>=1.14.0rc0 in /mnt/disks/user/anaconda3/lib/python3.6/site-packages (from tensorflow-gpu==1.14.0) (1.14.0)\n",
      "Requirement already satisfied: termcolor>=1.1.0 in /mnt/disks/user/anaconda3/lib/python3.6/site-packages (from tensorflow-gpu==1.14.0) (1.1.0)\n",
      "Requirement already satisfied: six>=1.10.0 in /mnt/disks/user/anaconda3/lib/python3.6/site-packages (from tensorflow-gpu==1.14.0) (1.11.0)\n",
      "Collecting wrapt>=1.11.1 (from tensorflow-gpu==1.14.0)\n",
      "Requirement already satisfied: gast>=0.2.0 in /mnt/disks/user/anaconda3/lib/python3.6/site-packages (from tensorflow-gpu==1.14.0) (0.2.0)\n",
      "Requirement already satisfied: keras-preprocessing>=1.0.5 in /mnt/disks/user/anaconda3/lib/python3.6/site-packages (from tensorflow-gpu==1.14.0) (1.1.0)\n",
      "Requirement already satisfied: wheel>=0.26 in /mnt/disks/user/anaconda3/lib/python3.6/site-packages (from tensorflow-gpu==1.14.0) (0.31.1)\n",
      "Requirement already satisfied: astor>=0.6.0 in /mnt/disks/user/anaconda3/lib/python3.6/site-packages (from tensorflow-gpu==1.14.0) (0.7.1)\n",
      "Requirement already satisfied: absl-py>=0.7.0 in /mnt/disks/user/anaconda3/lib/python3.6/site-packages (from tensorflow-gpu==1.14.0) (0.9.0)\n",
      "Requirement already satisfied: protobuf>=3.6.1 in /mnt/disks/user/anaconda3/lib/python3.6/site-packages (from tensorflow-gpu==1.14.0) (3.6.1)\n",
      "Requirement already satisfied: numpy<2.0,>=1.14.5 in /mnt/disks/user/anaconda3/lib/python3.6/site-packages (from tensorflow-gpu==1.14.0) (1.14.5)\n",
      "Requirement already satisfied: google-pasta>=0.1.6 in /mnt/disks/user/anaconda3/lib/python3.6/site-packages (from tensorflow-gpu==1.14.0) (0.2.0)\n",
      "Requirement already satisfied: tensorboard<1.15.0,>=1.14.0 in /mnt/disks/user/anaconda3/lib/python3.6/site-packages (from tensorflow-gpu==1.14.0) (1.14.0)\n",
      "Requirement already satisfied: keras-applications>=1.0.6 in /mnt/disks/user/anaconda3/lib/python3.6/site-packages (from tensorflow-gpu==1.14.0) (1.0.7)\n",
      "Requirement already satisfied: setuptools in /mnt/disks/user/anaconda3/lib/python3.6/site-packages (from protobuf>=3.6.1->tensorflow-gpu==1.14.0) (46.0.0)\n",
      "Requirement already satisfied: markdown>=2.6.8 in /mnt/disks/user/anaconda3/lib/python3.6/site-packages (from tensorboard<1.15.0,>=1.14.0->tensorflow-gpu==1.14.0) (3.0.1)\n",
      "Requirement already satisfied: werkzeug>=0.11.15 in /mnt/disks/user/anaconda3/lib/python3.6/site-packages (from tensorboard<1.15.0,>=1.14.0->tensorflow-gpu==1.14.0) (0.14.1)\n",
      "Requirement already satisfied: h5py in /mnt/disks/user/anaconda3/lib/python3.6/site-packages (from keras-applications>=1.0.6->tensorflow-gpu==1.14.0) (2.9.0)\n",
      "\u001b[31mthinc 6.10.3 has requirement wrapt<1.11.0,>=1.10.0, but you'll have wrapt 1.12.1 which is incompatible.\u001b[0m\n",
      "\u001b[31mspacy 2.0.12 has requirement regex==2017.4.5, but you'll have regex 2017.11.9 which is incompatible.\u001b[0m\n",
      "Installing collected packages: wrapt, tensorflow-gpu\n",
      "  Found existing installation: wrapt 1.10.11\n",
      "\u001b[31mCannot uninstall 'wrapt'. It is a distutils installed project and thus we cannot accurately determine which files belong to it which would lead to only a partial uninstall.\u001b[0m\n",
      "\u001b[33mYou are using pip version 19.0.1, however version 20.0.2 is available.\n",
      "You should consider upgrading via the 'pip install --upgrade pip' command.\u001b[0m\n",
      "Requirement already satisfied: scipy==1.2.1 in /mnt/disks/user/anaconda3/lib/python3.6/site-packages (1.2.1)\n",
      "Requirement already satisfied: numpy>=1.8.2 in /mnt/disks/user/anaconda3/lib/python3.6/site-packages (from scipy==1.2.1) (1.14.5)\n",
      "\u001b[33mYou are using pip version 19.0.1, however version 20.0.2 is available.\n",
      "You should consider upgrading via the 'pip install --upgrade pip' command.\u001b[0m\n",
      "Requirement already satisfied: keras_applications==1.0.7 in /mnt/disks/user/anaconda3/lib/python3.6/site-packages (1.0.7)\n",
      "Requirement already satisfied: h5py in /mnt/disks/user/anaconda3/lib/python3.6/site-packages (from keras_applications==1.0.7) (2.9.0)\n",
      "Requirement already satisfied: numpy>=1.9.1 in /mnt/disks/user/anaconda3/lib/python3.6/site-packages (from keras_applications==1.0.7) (1.14.5)\n",
      "Requirement already satisfied: six in /mnt/disks/user/anaconda3/lib/python3.6/site-packages (from h5py->keras_applications==1.0.7) (1.11.0)\n",
      "\u001b[33mYou are using pip version 19.0.1, however version 20.0.2 is available.\n",
      "You should consider upgrading via the 'pip install --upgrade pip' command.\u001b[0m\n"
     ]
    }
   ],
   "source": [
    "!pip install tensorflow-gpu==1.14.0\n",
    "!pip install scipy==1.2.1\n",
    "!pip install keras_applications==1.0.7"
   ]
  },
  {
   "cell_type": "code",
   "execution_count": 68,
   "metadata": {
    "colab": {},
    "colab_type": "code",
    "id": "b4-GD9JtO7kg"
   },
   "outputs": [],
   "source": [
    "import numpy as np\n",
    "import os\n",
    "#from matplotlib.pyplot import imread\n",
    "from scipy.misc import imread, imresize\n",
    "import datetime\n",
    "import os"
   ]
  },
  {
   "cell_type": "markdown",
   "metadata": {
    "colab_type": "text",
    "id": "-BVtIBP9O7kk"
   },
   "source": [
    "We set the random seed so that the results don't vary drastically."
   ]
  },
  {
   "cell_type": "code",
   "execution_count": 69,
   "metadata": {
    "colab": {},
    "colab_type": "code",
    "id": "lgayu2S8O7kl"
   },
   "outputs": [],
   "source": [
    "np.random.seed(30)\n",
    "import random as rn\n",
    "rn.seed(30)\n",
    "#from keras import backend as K\n",
    "import tensorflow as tf\n",
    "tf.set_random_seed(30)"
   ]
  },
  {
   "cell_type": "code",
   "execution_count": 70,
   "metadata": {
    "colab": {
     "base_uri": "https://localhost:8080/",
     "height": 34
    },
    "colab_type": "code",
    "id": "2Qj3e9Ppi7oo",
    "outputId": "da566eb1-b361-4e97-ec82-b6f737270dee"
   },
   "outputs": [],
   "source": [
    "#from google.colab import drive\n",
    "#drive.mount('/content/drive')"
   ]
  },
  {
   "cell_type": "markdown",
   "metadata": {
    "colab_type": "text",
    "id": "WvycjRyMO7ko"
   },
   "source": [
    "In this block, you read the folder names for training and validation. You also set the `batch_size` here. Note that you set the batch size in such a way that you are able to use the GPU in full capacity. You keep increasing the batch size until the machine throws an error."
   ]
  },
  {
   "cell_type": "code",
   "execution_count": 71,
   "metadata": {
    "cellView": "code",
    "colab": {},
    "colab_type": "code",
    "id": "qkUoQk96O7kp"
   },
   "outputs": [],
   "source": [
    "#@title Default title text\n",
    "train_doc = np.random.permutation(open('Project_data/train.csv').readlines())\n",
    "val_doc = np.random.permutation(open('Project_data/val.csv').readlines())\n",
    "\n",
    "batch_size = 8"
   ]
  },
  {
   "cell_type": "code",
   "execution_count": 72,
   "metadata": {},
   "outputs": [
    {
     "name": "stderr",
     "output_type": "stream",
     "text": [
      "/mnt/disks/user/anaconda3/lib/python3.6/site-packages/ipykernel_launcher.py:1: DeprecationWarning: `imread` is deprecated!\n",
      "`imread` is deprecated in SciPy 1.0.0, and will be removed in 1.2.0.\n",
      "Use ``imageio.imread`` instead.\n",
      "  \"\"\"Entry point for launching an IPython kernel.\n",
      "/mnt/disks/user/anaconda3/lib/python3.6/site-packages/skimage/transform/_warps.py:105: UserWarning: The default mode, 'constant', will be changed to 'reflect' in skimage 0.15.\n",
      "  warn(\"The default mode, 'constant', will be changed to 'reflect' in \"\n",
      "/mnt/disks/user/anaconda3/lib/python3.6/site-packages/skimage/transform/_warps.py:110: UserWarning: Anti-aliasing will be enabled by default in skimage 0.15 to avoid aliasing artifacts when down-sampling images.\n",
      "  warn(\"Anti-aliasing will be enabled by default in skimage 0.15 to \"\n"
     ]
    },
    {
     "data": {
      "text/plain": [
       "<matplotlib.image.AxesImage at 0x7f48990e1ac8>"
      ]
     },
     "execution_count": 72,
     "metadata": {},
     "output_type": "execute_result"
    },
    {
     "data": {
      "image/png": "[encoded data removed]",
      "text/plain": [
       "<Figure size 432x288 with 1 Axes>"
      ]
     },
     "metadata": {},
     "output_type": "display_data"
    }
   ],
   "source": [
    "image = imread('Project_data/train/WIN_20180925_17_29_33_Pro_Stop_new/WIN_20180925_17_29_33_Pro_00002.png')\n",
    "img_resized = resize(image, (80, 100))\n",
    "plt.imshow(img_resized)"
   ]
  },
  {
   "cell_type": "markdown",
   "metadata": {
    "colab_type": "text",
    "id": "qbZKnozpO7kt"
   },
   "source": [
    "## Generator\n",
    "This is one of the most important part of the code. The overall structure of the generator has been given. In the generator, you are going to preprocess the images as you have images of 2 different dimensions as well as create a batch of video frames. You have to experiment with `img_idx`, `y`,`z` and normalization such that you get high accuracy."
   ]
  },
  {
   "cell_type": "code",
   "execution_count": 73,
   "metadata": {
    "colab": {},
    "colab_type": "code",
    "id": "-vfRMA6yO7ku"
   },
   "outputs": [],
   "source": [
    "import matplotlib.pyplot as plt\n",
    "from matplotlib.pyplot import imread\n",
    "from skimage.transform import resize\n",
    "%matplotlib inline\n",
    "\n",
    "def generator(source_path, folder_list, batch_size):\n",
    "    print( 'Source path = ', source_path, '; batch size =', batch_size)\n",
    "    img_idx = {1,3,5,7,9,11,13,15,17,19,21,23,25,27,29} #create a list of image numbers you want to use for a particular video\n",
    "    while True:\n",
    "        t = np.random.permutation(folder_list)\n",
    "        num_batches = len(folder_list)//batch_size  # calculate the number of batches\n",
    "        for batch in range(num_batches): # we iterate over the number of batches\n",
    "            batch_data = np.zeros((batch_size,len(img_idx),80,100,3)) # x is the number of images you use for each video, (y,z) is the final size of the input images and 3 is the number of channels RGB\n",
    "            batch_labels = np.zeros((batch_size,5)) # batch_labels is the one hot representation of the output\n",
    "            for folder in range(batch_size): # iterate over the batch_size\n",
    "                imgs = os.listdir(source_path+'/'+ t[folder + (batch*batch_size)].split(';')[0]) # read all the images in the folder\n",
    "                for idx,item in enumerate(img_idx): #  Iterate over the frames/images of a folder to read them in\n",
    "                    image = imread(source_path+'/'+ t[folder + (batch*batch_size)].strip().split(';')[0]+'/'+imgs[item]).astype(np.float32)\n",
    "                    \n",
    "                    #crop the images and resize them. Note that the images are of 2 different shape \n",
    "                    #and the conv3D will throw error if the inputs in a batch have different shapes\n",
    "                    \n",
    "                    #if image.shape[0] > 160 and image.shape[1] > 160:\n",
    "                    #  img_resized = resize(image, (80, 100))\n",
    "                    #else:\n",
    "                    #  img_resized = image \n",
    "                    \n",
    "                    img_resized = resize(image, (80, 100))\n",
    "                 \n",
    "                    batch_data[folder,idx,:,:,0] = img_resized[:,:,0]/255 #normalise and feed in the image\n",
    "                    batch_data[folder,idx,:,:,1] = img_resized[:,:,1]/255 #normalise and feed in the image\n",
    "                    batch_data[folder,idx,:,:,2] = img_resized[:,:,2]/255 #normalise and feed in the image\n",
    "\n",
    "                batch_labels[folder, int(t[folder + (batch*batch_size)].strip().split(';')[2])] = 1\n",
    "            yield batch_data, batch_labels #you yield the batch_data and the batch_labels, remember what does yield do\n",
    "\n",
    "        \n",
    "        # write the code for the remaining data points which are left after full batches\n",
    "        rem_train_size = len(folder_list)%batch_size \n",
    "        batch_data = np.zeros((rem_train_size,len(img_idx),80,100,3)) # x is the number of images you use for each video, (y,z) is the final size of the input images and 3 is the number of channels RGB\n",
    "        batch_labels = np.zeros((rem_train_size,5)) # batch_labels is the one hot representation of the output\n",
    "        for folder in range(rem_train_size): # iterate over the remaining training folders\n",
    "            imgs = os.listdir(source_path+'/'+ t[folder + (num_batches*batch_size)].split(';')[0]) # read all the images in the folder\n",
    "            for idx,item in enumerate(img_idx): #  Iterate iver the frames/images of a folder to read them in\n",
    "                image = imread(source_path+'/'+ t[folder + (num_batches*batch_size)].strip().split(';')[0]+'/'+imgs[item]).astype(np.float32)\n",
    "                    \n",
    "                #crop the images and resize them. Note that the images are of 2 different shape \n",
    "                #and the conv3D will throw error if the inputs in a batch have different shapes\n",
    "                \n",
    "                #if image.shape[0] > 160 and image.shape[1] > 160:\n",
    "                #  img_resized = resize(image, (80, 100))\n",
    "                #else:\n",
    "                #  img_resized = image\n",
    "                \n",
    "                img_resized = resize(image, (80, 100))\n",
    "                    \n",
    "                batch_data[folder,idx,:,:,0] = img_resized[:,:,0]/255 #normalise and feed in the image\n",
    "                batch_data[folder,idx,:,:,1] = img_resized[:,:,1]/255 #normalise and feed in the image\n",
    "                batch_data[folder,idx,:,:,2] = img_resized[:,:,2]/255 #normalise and feed in the image\n",
    "                    \n",
    "            batch_labels[folder, int(t[folder + (batch*batch_size)].strip().split(';')[2])] = 1\n",
    "        yield batch_data, batch_labels #you yield the batch_data and the batch_labels, remember what does yield do\n"
   ]
  },
  {
   "cell_type": "markdown",
   "metadata": {
    "colab_type": "text",
    "id": "AgkemSZgO7kx"
   },
   "source": [
    "Note here that a video is represented above in the generator as (number of images, height, width, number of channels). Take this into consideration while creating the model architecture."
   ]
  },
  {
   "cell_type": "code",
   "execution_count": 74,
   "metadata": {
    "colab": {
     "base_uri": "https://localhost:8080/",
     "height": 68
    },
    "colab_type": "code",
    "id": "1LIAoVUpO7ky",
    "outputId": "84335605-a633-4385-8438-56278ce83881"
   },
   "outputs": [
    {
     "name": "stdout",
     "output_type": "stream",
     "text": [
      "# training sequences = 663\n",
      "# validation sequences = 100\n",
      "# epochs = 50\n"
     ]
    }
   ],
   "source": [
    "curr_dt_time = datetime.datetime.now()\n",
    "train_path = 'Project_data/train'\n",
    "val_path = 'Project_data/val'\n",
    "num_train_sequences = len(train_doc)\n",
    "print('# training sequences =', num_train_sequences)\n",
    "num_val_sequences = len(val_doc)\n",
    "print('# validation sequences =', num_val_sequences)\n",
    "num_epochs = 50 # choose the number of epochs\n",
    "print ('# epochs =', num_epochs)"
   ]
  },
  {
   "cell_type": "markdown",
   "metadata": {
    "colab_type": "text",
    "id": "ExRKfrl5O7k1"
   },
   "source": [
    "## Model\n",
    "Here you make the model using different functionalities that Keras provides. Remember to use `Conv3D` and `MaxPooling3D` and not `Conv2D` and `Maxpooling2D` for a 3D convolution model. You would want to use `TimeDistributed` while building a Conv2D + RNN model. Also remember that the last layer is the softmax. Design the network in such a way that the model is able to give good accuracy on the least number of parameters so that it can fit in the memory of the webcam."
   ]
  },
  {
   "cell_type": "code",
   "execution_count": 75,
   "metadata": {
    "colab": {
     "base_uri": "https://localhost:8080/",
     "height": 391
    },
    "colab_type": "code",
    "id": "z1lHHhdyO7k4",
    "outputId": "399a3478-8de4-4c32-fb52-5abc9016fc2a"
   },
   "outputs": [
    {
     "name": "stdout",
     "output_type": "stream",
     "text": [
      "_________________________________________________________________\n",
      "Layer (type)                 Output Shape              Param #   \n",
      "=================================================================\n",
      "conv3d_9 (Conv3D)            (None, 13, 78, 98, 32)    2624      \n",
      "_________________________________________________________________\n",
      "max_pooling3d_9 (MaxPooling3 (None, 6, 39, 49, 32)     0         \n",
      "_________________________________________________________________\n",
      "conv3d_10 (Conv3D)           (None, 4, 37, 47, 64)     55360     \n",
      "_________________________________________________________________\n",
      "max_pooling3d_10 (MaxPooling (None, 2, 18, 23, 64)     0         \n",
      "_________________________________________________________________\n",
      "flatten_5 (Flatten)          (None, 52992)             0         \n",
      "_________________________________________________________________\n",
      "dense_9 (Dense)              (None, 128)               6783104   \n",
      "_________________________________________________________________\n",
      "dense_10 (Dense)             (None, 5)                 645       \n",
      "=================================================================\n",
      "Total params: 6,841,733\n",
      "Trainable params: 6,841,733\n",
      "Non-trainable params: 0\n",
      "_________________________________________________________________\n"
     ]
    }
   ],
   "source": [
    "from keras.models import Sequential, Model\n",
    "from keras.layers import Dense, GRU, Flatten, TimeDistributed, Flatten, BatchNormalization, Activation\n",
    "from keras.layers.convolutional import Conv3D, MaxPooling3D\n",
    "from keras.callbacks import ModelCheckpoint, ReduceLROnPlateau\n",
    "from keras import optimizers\n",
    "from keras.optimizers import Adam\n",
    "\n",
    "input_shape = (15, 80, 100, 3)\n",
    "num_classes = 5\n",
    "\n",
    "#write your model here\n",
    "model = Sequential()\n",
    "model.add(Conv3D(32, kernel_size=(3, 3, 3), activation='relu', kernel_initializer='he_uniform',  input_shape=input_shape))\n",
    "model.add(MaxPooling3D(pool_size=(2, 2, 2)))\n",
    "model.add(Conv3D(64, kernel_size=(3, 3, 3), activation='relu', kernel_initializer='he_uniform'))\n",
    "model.add(MaxPooling3D(pool_size=(2, 2, 2)))\n",
    "#model.add(Dropout(0.25))\n",
    "model.add(Flatten())\n",
    "model.add(Dense(128, activation='relu')) # fully connected\n",
    "#model.add(Dropout(0.5))\n",
    "model.add(Dense(num_classes, activation='softmax', kernel_initializer='he_uniform'))\n",
    "model.summary()"
   ]
  },
  {
   "cell_type": "markdown",
   "metadata": {
    "colab_type": "text",
    "id": "fV2PWurFO7k7"
   },
   "source": [
    "Now that you have written the model, the next step is to `compile` the model. When you print the `summary` of the model, you'll see the total number of parameters you have to train."
   ]
  },
  {
   "cell_type": "code",
   "execution_count": 76,
   "metadata": {
    "colab": {
     "base_uri": "https://localhost:8080/",
     "height": 408
    },
    "colab_type": "code",
    "id": "aQyETTawO7k8",
    "outputId": "3fab4a47-b827-4b88-a8ff-372c654ab125",
    "scrolled": true
   },
   "outputs": [
    {
     "name": "stdout",
     "output_type": "stream",
     "text": [
      "_________________________________________________________________\n",
      "Layer (type)                 Output Shape              Param #   \n",
      "=================================================================\n",
      "conv3d_9 (Conv3D)            (None, 13, 78, 98, 32)    2624      \n",
      "_________________________________________________________________\n",
      "max_pooling3d_9 (MaxPooling3 (None, 6, 39, 49, 32)     0         \n",
      "_________________________________________________________________\n",
      "conv3d_10 (Conv3D)           (None, 4, 37, 47, 64)     55360     \n",
      "_________________________________________________________________\n",
      "max_pooling3d_10 (MaxPooling (None, 2, 18, 23, 64)     0         \n",
      "_________________________________________________________________\n",
      "flatten_5 (Flatten)          (None, 52992)             0         \n",
      "_________________________________________________________________\n",
      "dense_9 (Dense)              (None, 128)               6783104   \n",
      "_________________________________________________________________\n",
      "dense_10 (Dense)             (None, 5)                 645       \n",
      "=================================================================\n",
      "Total params: 6,841,733\n",
      "Trainable params: 6,841,733\n",
      "Non-trainable params: 0\n",
      "_________________________________________________________________\n",
      "None\n"
     ]
    }
   ],
   "source": [
    "optimiser = Adam(lr=0.0001)\n",
    "model.compile(optimizer=optimiser, loss='categorical_crossentropy', metrics=['categorical_accuracy'])\n",
    "print (model.summary())"
   ]
  },
  {
   "cell_type": "markdown",
   "metadata": {
    "colab_type": "text",
    "id": "kuJUqwH8O7k_"
   },
   "source": [
    "Let us create the `train_generator` and the `val_generator` which will be used in `.fit_generator`."
   ]
  },
  {
   "cell_type": "code",
   "execution_count": 77,
   "metadata": {
    "colab": {},
    "colab_type": "code",
    "id": "wRmRNPkWO7lA"
   },
   "outputs": [],
   "source": [
    "train_generator = generator(train_path, train_doc, batch_size)\n",
    "val_generator = generator(val_path, val_doc, batch_size)"
   ]
  },
  {
   "cell_type": "code",
   "execution_count": 78,
   "metadata": {
    "colab": {},
    "colab_type": "code",
    "id": "aPGrtcWhO7lD"
   },
   "outputs": [],
   "source": [
    "model_name = 'model_init' + '_' + str(curr_dt_time).replace(' ','').replace(':','_') + '/'\n",
    "    \n",
    "if not os.path.exists(model_name):\n",
    "    os.mkdir(model_name)\n",
    "        \n",
    "filepath = model_name + 'model-{epoch:05d}-{loss:.5f}-{categorical_accuracy:.5f}-{val_loss:.5f}-{val_categorical_accuracy:.5f}.h5'\n",
    "\n",
    "checkpoint = ModelCheckpoint(filepath, monitor='val_loss', verbose=1, save_best_only=False, save_weights_only=False, mode='auto', period=1)\n",
    "\n",
    "LR = ReduceLROnPlateau(monitor='val_loss', factor=0.2, patience=5, min_lr=0.001)\n",
    "callbacks_list = [checkpoint, LR]"
   ]
  },
  {
   "cell_type": "markdown",
   "metadata": {
    "colab_type": "text",
    "id": "LacqCMP_O7lG"
   },
   "source": [
    "The `steps_per_epoch` and `validation_steps` are used by `fit_generator` to decide the number of next() calls it need to make."
   ]
  },
  {
   "cell_type": "code",
   "execution_count": 79,
   "metadata": {
    "colab": {},
    "colab_type": "code",
    "id": "FGCgRAw8O7lG"
   },
   "outputs": [],
   "source": [
    "if (num_train_sequences%batch_size) == 0:\n",
    "    steps_per_epoch = int(num_train_sequences/batch_size)\n",
    "else:\n",
    "    steps_per_epoch = (num_train_sequences//batch_size) + 1\n",
    "\n",
    "if (num_val_sequences%batch_size) == 0:\n",
    "    validation_steps = int(num_val_sequences/batch_size)\n",
    "else:\n",
    "    validation_steps = (num_val_sequences//batch_size) + 1"
   ]
  },
  {
   "cell_type": "markdown",
   "metadata": {
    "colab_type": "text",
    "id": "ZjsfFFvEO7lJ"
   },
   "source": [
    "Let us now fit the model. This will start training the model and with the help of the checkpoints, you'll be able to save the model at the end of each epoch."
   ]
  },
  {
   "cell_type": "code",
   "execution_count": 80,
   "metadata": {
    "colab": {
     "base_uri": "https://localhost:8080/",
     "height": 122
    },
    "colab_type": "code",
    "id": "jL-y4mezO7lK",
    "outputId": "18c6b496-1b2c-4e31-c8ec-24685f7445bf"
   },
   "outputs": [
    {
     "name": "stdout",
     "output_type": "stream",
     "text": [
      "Source path =  Project_data/val ; batch size = 8\n",
      "Source path =  Project_data/train ; batch size = 8\n",
      "Epoch 1/50\n"
     ]
    },
    {
     "name": "stderr",
     "output_type": "stream",
     "text": [
      "/mnt/disks/user/anaconda3/lib/python3.6/site-packages/skimage/transform/_warps.py:105: UserWarning: The default mode, 'constant', will be changed to 'reflect' in skimage 0.15.\n",
      "  warn(\"The default mode, 'constant', will be changed to 'reflect' in \"\n",
      "/mnt/disks/user/anaconda3/lib/python3.6/site-packages/skimage/transform/_warps.py:110: UserWarning: Anti-aliasing will be enabled by default in skimage 0.15 to avoid aliasing artifacts when down-sampling images.\n",
      "  warn(\"Anti-aliasing will be enabled by default in skimage 0.15 to \"\n"
     ]
    },
    {
     "name": "stdout",
     "output_type": "stream",
     "text": [
      "83/83 [==============================] - 91s 1s/step - loss: 1.5995 - categorical_accuracy: 0.2020 - val_loss: 1.5688 - val_categorical_accuracy: 0.2300\n",
      "\n",
      "Epoch 00001: saving model to model_init_2020-03-1917_07_28.065557/model-00001-1.59951-0.20211-1.56881-0.23000.h5\n",
      "Epoch 2/50\n",
      "83/83 [==============================] - 51s 612ms/step - loss: 1.5431 - categorical_accuracy: 0.2425 - val_loss: 1.4835 - val_categorical_accuracy: 0.3900\n",
      "\n",
      "Epoch 00002: saving model to model_init_2020-03-1917_07_28.065557/model-00002-1.54280-0.24284-1.48354-0.39000.h5\n",
      "Epoch 3/50\n",
      "83/83 [==============================] - 55s 659ms/step - loss: 1.4031 - categorical_accuracy: 0.4570 - val_loss: 1.3573 - val_categorical_accuracy: 0.4100\n",
      "\n",
      "Epoch 00003: saving model to model_init_2020-03-1917_07_28.065557/model-00003-1.40277-0.45701-1.35734-0.41000.h5\n",
      "Epoch 4/50\n",
      "83/83 [==============================] - 57s 687ms/step - loss: 1.2527 - categorical_accuracy: 0.5121 - val_loss: 1.2932 - val_categorical_accuracy: 0.5200\n",
      "\n",
      "Epoch 00004: saving model to model_init_2020-03-1917_07_28.065557/model-00004-1.25151-0.51282-1.29323-0.52000.h5\n",
      "Epoch 5/50\n",
      "83/83 [==============================] - 52s 623ms/step - loss: 1.1540 - categorical_accuracy: 0.5407 - val_loss: 1.1272 - val_categorical_accuracy: 0.5800\n",
      "\n",
      "Epoch 00005: saving model to model_init_2020-03-1917_07_28.065557/model-00005-1.15235-0.54148-1.12715-0.58000.h5\n",
      "Epoch 6/50\n",
      "83/83 [==============================] - 52s 623ms/step - loss: 1.0983 - categorical_accuracy: 0.5710 - val_loss: 1.1088 - val_categorical_accuracy: 0.5900\n",
      "\n",
      "Epoch 00006: saving model to model_init_2020-03-1917_07_28.065557/model-00006-1.09672-0.57164-1.10876-0.59000.h5\n",
      "Epoch 7/50\n",
      "83/83 [==============================] - 51s 618ms/step - loss: 1.0154 - categorical_accuracy: 0.6254 - val_loss: 1.3771 - val_categorical_accuracy: 0.4100\n",
      "\n",
      "Epoch 00007: saving model to model_init_2020-03-1917_07_28.065557/model-00007-1.01325-0.62594-1.37711-0.41000.h5\n",
      "Epoch 8/50\n",
      "83/83 [==============================] - 55s 662ms/step - loss: 1.0057 - categorical_accuracy: 0.6117 - val_loss: 1.0461 - val_categorical_accuracy: 0.5900\n",
      "\n",
      "Epoch 00008: saving model to model_init_2020-03-1917_07_28.065557/model-00008-1.00311-0.61237-1.04606-0.59000.h5\n",
      "Epoch 9/50\n",
      "83/83 [==============================] - 56s 669ms/step - loss: 0.9462 - categorical_accuracy: 0.6403 - val_loss: 1.1063 - val_categorical_accuracy: 0.5500\n",
      "\n",
      "Epoch 00009: saving model to model_init_2020-03-1917_07_28.065557/model-00009-0.94379-0.64103-1.10633-0.55000.h5\n",
      "Epoch 10/50\n",
      "83/83 [==============================] - 56s 669ms/step - loss: 0.9213 - categorical_accuracy: 0.6295 - val_loss: 1.1229 - val_categorical_accuracy: 0.5400\n",
      "\n",
      "Epoch 00010: saving model to model_init_2020-03-1917_07_28.065557/model-00010-0.91934-0.63047-1.12291-0.54000.h5\n",
      "Epoch 11/50\n",
      "83/83 [==============================] - 57s 682ms/step - loss: 0.9075 - categorical_accuracy: 0.6478 - val_loss: 1.0049 - val_categorical_accuracy: 0.6200\n",
      "\n",
      "Epoch 00011: saving model to model_init_2020-03-1917_07_28.065557/model-00011-0.90527-0.64857-1.00493-0.62000.h5\n",
      "Epoch 12/50\n",
      "83/83 [==============================] - 55s 661ms/step - loss: 0.8647 - categorical_accuracy: 0.6558 - val_loss: 1.0211 - val_categorical_accuracy: 0.5800\n",
      "\n",
      "Epoch 00012: saving model to model_init_2020-03-1917_07_28.065557/model-00012-0.86319-0.65611-1.02110-0.58000.h5\n",
      "Epoch 13/50\n",
      "83/83 [==============================] - 55s 663ms/step - loss: 0.8141 - categorical_accuracy: 0.7025 - val_loss: 1.0772 - val_categorical_accuracy: 0.5600\n",
      "\n",
      "Epoch 00013: saving model to model_init_2020-03-1917_07_28.065557/model-00013-0.81266-0.70287-1.07723-0.56000.h5\n",
      "Epoch 14/50\n",
      "83/83 [==============================] - 52s 632ms/step - loss: 0.8279 - categorical_accuracy: 0.7068 - val_loss: 1.0241 - val_categorical_accuracy: 0.6000\n",
      "\n",
      "Epoch 00014: saving model to model_init_2020-03-1917_07_28.065557/model-00014-0.82308-0.70739-1.02412-0.60000.h5\n",
      "Epoch 15/50\n",
      "83/83 [==============================] - 55s 659ms/step - loss: 0.8099 - categorical_accuracy: 0.6932 - val_loss: 1.1269 - val_categorical_accuracy: 0.5800\n",
      "\n",
      "Epoch 00015: saving model to model_init_2020-03-1917_07_28.065557/model-00015-0.80707-0.69382-1.12690-0.58000.h5\n",
      "Epoch 16/50\n",
      "83/83 [==============================] - 51s 617ms/step - loss: 0.8015 - categorical_accuracy: 0.7035 - val_loss: 1.1241 - val_categorical_accuracy: 0.6000\n",
      "\n",
      "Epoch 00016: saving model to model_init_2020-03-1917_07_28.065557/model-00016-0.79805-0.70437-1.12414-0.60000.h5\n",
      "Epoch 17/50\n",
      "83/83 [==============================] - 56s 669ms/step - loss: 0.7606 - categorical_accuracy: 0.7322 - val_loss: 1.0263 - val_categorical_accuracy: 0.6100\n",
      "\n",
      "Epoch 00017: saving model to model_init_2020-03-1917_07_28.065557/model-00017-0.75756-0.73303-1.02635-0.61000.h5\n",
      "Epoch 18/50\n",
      "83/83 [==============================] - 52s 622ms/step - loss: 0.7444 - categorical_accuracy: 0.7203 - val_loss: 1.0042 - val_categorical_accuracy: 0.6200\n",
      "\n",
      "Epoch 00018: saving model to model_init_2020-03-1917_07_28.065557/model-00018-0.74075-0.72097-1.00416-0.62000.h5\n",
      "Epoch 19/50\n",
      "83/83 [==============================] - 58s 699ms/step - loss: 0.7453 - categorical_accuracy: 0.7382 - val_loss: 1.0321 - val_categorical_accuracy: 0.5600\n",
      "\n",
      "Epoch 00019: saving model to model_init_2020-03-1917_07_28.065557/model-00019-0.74178-0.73906-1.03209-0.56000.h5\n",
      "Epoch 20/50\n",
      "83/83 [==============================] - 52s 622ms/step - loss: 0.7153 - categorical_accuracy: 0.7397 - val_loss: 0.9463 - val_categorical_accuracy: 0.5800\n",
      "\n",
      "Epoch 00020: saving model to model_init_2020-03-1917_07_28.065557/model-00020-0.70959-0.74057-0.94628-0.58000.h5\n",
      "Epoch 21/50\n",
      "83/83 [==============================] - 54s 650ms/step - loss: 0.6581 - categorical_accuracy: 0.7502 - val_loss: 1.1437 - val_categorical_accuracy: 0.5700\n",
      "\n",
      "Epoch 00021: saving model to model_init_2020-03-1917_07_28.065557/model-00021-0.65520-0.75113-1.14367-0.57000.h5\n",
      "Epoch 22/50\n",
      "83/83 [==============================] - 51s 620ms/step - loss: 0.6949 - categorical_accuracy: 0.7304 - val_loss: 0.9113 - val_categorical_accuracy: 0.6300\n",
      "\n",
      "Epoch 00022: saving model to model_init_2020-03-1917_07_28.065557/model-00022-0.69105-0.73152-0.91132-0.63000.h5\n",
      "Epoch 23/50\n",
      "83/83 [==============================] - 51s 619ms/step - loss: 0.6634 - categorical_accuracy: 0.7442 - val_loss: 1.0031 - val_categorical_accuracy: 0.6200\n",
      "\n",
      "Epoch 00023: saving model to model_init_2020-03-1917_07_28.065557/model-00023-0.65939-0.74510-1.00312-0.62000.h5\n",
      "Epoch 24/50\n",
      "83/83 [==============================] - 51s 618ms/step - loss: 0.6499 - categorical_accuracy: 0.7655 - val_loss: 0.9855 - val_categorical_accuracy: 0.6000\n",
      "\n",
      "Epoch 00024: saving model to model_init_2020-03-1917_07_28.065557/model-00024-0.64413-0.76621-0.98555-0.60000.h5\n",
      "Epoch 25/50\n",
      "83/83 [==============================] - 51s 620ms/step - loss: 0.6305 - categorical_accuracy: 0.7806 - val_loss: 1.0878 - val_categorical_accuracy: 0.5900\n",
      "\n",
      "Epoch 00025: saving model to model_init_2020-03-1917_07_28.065557/model-00025-0.62811-0.78130-1.08776-0.59000.h5\n",
      "Epoch 26/50\n",
      "83/83 [==============================] - 51s 617ms/step - loss: 0.6072 - categorical_accuracy: 0.7728 - val_loss: 0.9452 - val_categorical_accuracy: 0.6000\n",
      "\n",
      "Epoch 00026: saving model to model_init_2020-03-1917_07_28.065557/model-00026-0.60335-0.77376-0.94524-0.60000.h5\n",
      "Epoch 27/50\n",
      "83/83 [==============================] - 56s 675ms/step - loss: 0.5983 - categorical_accuracy: 0.7864 - val_loss: 1.0303 - val_categorical_accuracy: 0.6000\n",
      "\n",
      "Epoch 00027: saving model to model_init_2020-03-1917_07_28.065557/model-00027-0.59398-0.78733-1.03029-0.60000.h5\n",
      "Epoch 28/50\n",
      "83/83 [==============================] - 57s 681ms/step - loss: 0.5709 - categorical_accuracy: 0.7952 - val_loss: 1.3120 - val_categorical_accuracy: 0.5500\n",
      "\n",
      "Epoch 00028: saving model to model_init_2020-03-1917_07_28.065557/model-00028-0.56617-0.79638-1.31199-0.55000.h5\n",
      "Epoch 29/50\n",
      "83/83 [==============================] - 57s 683ms/step - loss: 0.5975 - categorical_accuracy: 0.7907 - val_loss: 1.0403 - val_categorical_accuracy: 0.5500\n",
      "\n",
      "Epoch 00029: saving model to model_init_2020-03-1917_07_28.065557/model-00029-0.59137-0.79186-1.04025-0.55000.h5\n",
      "Epoch 30/50\n"
     ]
    },
    {
     "name": "stdout",
     "output_type": "stream",
     "text": [
      "83/83 [==============================] - 61s 730ms/step - loss: 0.5664 - categorical_accuracy: 0.7954 - val_loss: 0.9178 - val_categorical_accuracy: 0.6200\n",
      "\n",
      "Epoch 00030: saving model to model_init_2020-03-1917_07_28.065557/model-00030-0.56008-0.79638-0.91782-0.62000.h5\n",
      "Epoch 31/50\n",
      "83/83 [==============================] - 56s 669ms/step - loss: 0.5024 - categorical_accuracy: 0.8320 - val_loss: 1.0028 - val_categorical_accuracy: 0.6100\n",
      "\n",
      "Epoch 00031: saving model to model_init_2020-03-1917_07_28.065557/model-00031-0.50019-0.83258-1.00284-0.61000.h5\n",
      "Epoch 32/50\n",
      "83/83 [==============================] - 56s 678ms/step - loss: 0.4919 - categorical_accuracy: 0.8408 - val_loss: 0.9945 - val_categorical_accuracy: 0.6300\n",
      "\n",
      "Epoch 00032: saving model to model_init_2020-03-1917_07_28.065557/model-00032-0.48903-0.84163-0.99454-0.63000.h5\n",
      "Epoch 33/50\n",
      "83/83 [==============================] - 55s 660ms/step - loss: 0.5283 - categorical_accuracy: 0.8374 - val_loss: 1.0188 - val_categorical_accuracy: 0.6200\n",
      "\n",
      "Epoch 00033: saving model to model_init_2020-03-1917_07_28.065557/model-00033-0.52067-0.83861-1.01883-0.62000.h5\n",
      "Epoch 34/50\n",
      "83/83 [==============================] - 52s 622ms/step - loss: 0.4633 - categorical_accuracy: 0.8623 - val_loss: 0.9035 - val_categorical_accuracy: 0.6400\n",
      "\n",
      "Epoch 00034: saving model to model_init_2020-03-1917_07_28.065557/model-00034-0.46017-0.86275-0.90353-0.64000.h5\n",
      "Epoch 35/50\n",
      "83/83 [==============================] - 52s 627ms/step - loss: 0.4986 - categorical_accuracy: 0.8300 - val_loss: 0.9933 - val_categorical_accuracy: 0.6900\n",
      "\n",
      "Epoch 00035: saving model to model_init_2020-03-1917_07_28.065557/model-00035-0.49245-0.83107-0.99326-0.69000.h5\n",
      "Epoch 36/50\n",
      "83/83 [==============================] - 60s 723ms/step - loss: 0.4675 - categorical_accuracy: 0.8526 - val_loss: 1.0739 - val_categorical_accuracy: 0.6200\n",
      "\n",
      "Epoch 00036: saving model to model_init_2020-03-1917_07_28.065557/model-00036-0.46143-0.85370-1.07391-0.62000.h5\n",
      "Epoch 37/50\n",
      "83/83 [==============================] - 52s 626ms/step - loss: 0.4347 - categorical_accuracy: 0.8531 - val_loss: 0.8819 - val_categorical_accuracy: 0.6500\n",
      "\n",
      "Epoch 00037: saving model to model_init_2020-03-1917_07_28.065557/model-00037-0.43074-0.85370-0.88185-0.65000.h5\n",
      "Epoch 38/50\n",
      "83/83 [==============================] - 53s 639ms/step - loss: 0.4469 - categorical_accuracy: 0.8797 - val_loss: 1.1303 - val_categorical_accuracy: 0.6200\n",
      "\n",
      "Epoch 00038: saving model to model_init_2020-03-1917_07_28.065557/model-00038-0.43893-0.88084-1.13029-0.62000.h5\n",
      "Epoch 39/50\n",
      "83/83 [==============================] - 54s 646ms/step - loss: 0.4326 - categorical_accuracy: 0.8649 - val_loss: 0.9720 - val_categorical_accuracy: 0.6000\n",
      "\n",
      "Epoch 00039: saving model to model_init_2020-03-1917_07_28.065557/model-00039-0.42636-0.86576-0.97197-0.60000.h5\n",
      "Epoch 40/50\n",
      "83/83 [==============================] - 56s 674ms/step - loss: 0.3906 - categorical_accuracy: 0.8683 - val_loss: 1.0232 - val_categorical_accuracy: 0.6300\n",
      "\n",
      "Epoch 00040: saving model to model_init_2020-03-1917_07_28.065557/model-00040-0.38854-0.86878-1.02324-0.63000.h5\n",
      "Epoch 41/50\n",
      "83/83 [==============================] - 51s 619ms/step - loss: 0.4095 - categorical_accuracy: 0.8828 - val_loss: 1.1705 - val_categorical_accuracy: 0.6100\n",
      "\n",
      "Epoch 00041: saving model to model_init_2020-03-1917_07_28.065557/model-00041-0.40245-0.88386-1.17052-0.61000.h5\n",
      "Epoch 42/50\n",
      "83/83 [==============================] - 51s 618ms/step - loss: 0.3704 - categorical_accuracy: 0.8937 - val_loss: 0.9677 - val_categorical_accuracy: 0.6300\n",
      "\n",
      "Epoch 00042: saving model to model_init_2020-03-1917_07_28.065557/model-00042-0.36575-0.89442-0.96774-0.63000.h5\n",
      "Epoch 43/50\n",
      "83/83 [==============================] - 54s 654ms/step - loss: 0.3865 - categorical_accuracy: 0.8918 - val_loss: 1.0239 - val_categorical_accuracy: 0.5900\n",
      "\n",
      "Epoch 00043: saving model to model_init_2020-03-1917_07_28.065557/model-00043-0.37880-0.89291-1.02387-0.59000.h5\n",
      "Epoch 44/50\n",
      "83/83 [==============================] - 56s 671ms/step - loss: 0.4010 - categorical_accuracy: 0.8916 - val_loss: 1.0001 - val_categorical_accuracy: 0.6700\n",
      "\n",
      "Epoch 00044: saving model to model_init_2020-03-1917_07_28.065557/model-00044-0.39106-0.89291-1.00006-0.67000.h5\n",
      "Epoch 45/50\n",
      "83/83 [==============================] - 54s 647ms/step - loss: 0.3557 - categorical_accuracy: 0.9036 - val_loss: 1.0109 - val_categorical_accuracy: 0.6100\n",
      "\n",
      "Epoch 00045: saving model to model_init_2020-03-1917_07_28.065557/model-00045-0.34949-0.90498-1.01089-0.61000.h5\n",
      "Epoch 46/50\n",
      "83/83 [==============================] - 52s 628ms/step - loss: 0.3340 - categorical_accuracy: 0.9097 - val_loss: 0.9648 - val_categorical_accuracy: 0.6200\n",
      "\n",
      "Epoch 00046: saving model to model_init_2020-03-1917_07_28.065557/model-00046-0.32872-0.91101-0.96481-0.62000.h5\n",
      "Epoch 47/50\n",
      "83/83 [==============================] - 51s 616ms/step - loss: 0.3515 - categorical_accuracy: 0.9172 - val_loss: 0.9043 - val_categorical_accuracy: 0.6200\n",
      "\n",
      "Epoch 00047: saving model to model_init_2020-03-1917_07_28.065557/model-00047-0.34323-0.91855-0.90429-0.62000.h5\n",
      "Epoch 48/50\n",
      "83/83 [==============================] - 52s 621ms/step - loss: 0.3310 - categorical_accuracy: 0.8967 - val_loss: 1.0563 - val_categorical_accuracy: 0.6100\n",
      "\n",
      "Epoch 00048: saving model to model_init_2020-03-1917_07_28.065557/model-00048-0.32822-0.89744-1.05634-0.61000.h5\n",
      "Epoch 49/50\n",
      "83/83 [==============================] - 51s 614ms/step - loss: 0.3204 - categorical_accuracy: 0.9191 - val_loss: 1.0865 - val_categorical_accuracy: 0.6100\n",
      "\n",
      "Epoch 00049: saving model to model_init_2020-03-1917_07_28.065557/model-00049-0.31385-0.92006-1.08653-0.61000.h5\n",
      "Epoch 50/50\n",
      "83/83 [==============================] - 56s 676ms/step - loss: 0.3222 - categorical_accuracy: 0.9262 - val_loss: 1.2220 - val_categorical_accuracy: 0.6000\n",
      "\n",
      "Epoch 00050: saving model to model_init_2020-03-1917_07_28.065557/model-00050-0.31419-0.92760-1.22198-0.60000.h5\n"
     ]
    }
   ],
   "source": [
    "modelhistory = model.fit_generator(train_generator, steps_per_epoch=steps_per_epoch, epochs=num_epochs, verbose=1, \n",
    "                                   callbacks=callbacks_list, validation_data=val_generator, \n",
    "                                   validation_steps=validation_steps, class_weight=None, workers=1, initial_epoch=0)"
   ]
  },
  {
   "cell_type": "code",
   "execution_count": 81,
   "metadata": {
    "colab": {},
    "colab_type": "code",
    "id": "TmBY1RwaqA0_"
   },
   "outputs": [],
   "source": [
    "acc = modelhistory.history['categorical_accuracy']\n",
    "val_acc = modelhistory.history['val_categorical_accuracy']\n",
    "loss = modelhistory.history['loss']\n",
    "val_loss = modelhistory.history['val_loss']"
   ]
  },
  {
   "cell_type": "code",
   "execution_count": 82,
   "metadata": {
    "colab": {},
    "colab_type": "code",
    "id": "5K0Loo4wqn6k"
   },
   "outputs": [
    {
     "data": {
      "image/png": "[encoded data removed]",
      "text/plain": [
       "<Figure size 576x576 with 2 Axes>"
      ]
     },
     "metadata": {},
     "output_type": "display_data"
    }
   ],
   "source": [
    "plt.figure(figsize=(8, 8))\n",
    "plt.subplot(2, 1, 1)\n",
    "plt.plot(acc, label='Training Accuracy')\n",
    "plt.plot(val_acc, label='Validation Accuracy')\n",
    "plt.plot([num_epochs-1,num_epochs-1],\n",
    "          plt.ylim(), label='Start Fine Tuning')\n",
    "plt.legend(loc='lower right')\n",
    "plt.title('Training and Validation Accuracy')\n",
    "\n",
    "plt.subplot(2, 1, 2)\n",
    "plt.plot(loss, label='Training Loss')\n",
    "plt.plot(val_loss, label='Validation Loss')\n",
    "plt.plot([num_epochs-1,num_epochs-1],\n",
    "         plt.ylim(), label='Start Fine Tuning')\n",
    "plt.legend(loc='upper right')\n",
    "plt.title('Training and Validation Loss')\n",
    "plt.xlabel('epoch')\n",
    "plt.show()"
   ]
  },
  {
   "cell_type": "code",
   "execution_count": null,
   "metadata": {},
   "outputs": [],
   "source": []
  }
 ],
 "metadata": {
  "accelerator": "GPU",
  "colab": {
   "collapsed_sections": [],
   "include_colab_link": true,
   "name": "Gesture_Recognition_Code.ipynb",
   "provenance": [],
   "toc_visible": true
  },
  "kernelspec": {
   "display_name": "Python 3",
   "language": "python",
   "name": "python3"
  },
  "language_info": {
   "codemirror_mode": {
    "name": "ipython",
    "version": 3
   },
   "file_extension": ".py",
   "mimetype": "text/x-python",
   "name": "python",
   "nbconvert_exporter": "python",
   "pygments_lexer": "ipython3",
   "version": "3.6.8"
  }
 },
 "nbformat": 4,
 "nbformat_minor": 1
}
