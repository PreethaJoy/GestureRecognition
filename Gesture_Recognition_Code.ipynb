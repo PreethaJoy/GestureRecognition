{
 "cells": [
  {
   "cell_type": "markdown",
   "metadata": {
    "colab_type": "text",
    "id": "view-in-github"
   },
   "source": [
    "<a href=\"https://colab.research.google.com/github/PreethaJoy/GestureRecognition/blob/master/Gesture_Recognition_Code.ipynb\" target=\"_parent\"><img src=\"https://colab.research.google.com/assets/colab-badge.svg\" alt=\"Open In Colab\"/></a>"
   ]
  },
  {
   "cell_type": "markdown",
   "metadata": {
    "colab_type": "text",
    "id": "AAC9CBB4O7kY"
   },
   "source": [
    "# Gesture Recognition\n",
    "In this group project, you are going to build a 3D Conv model that will be able to predict the 5 gestures correctly. Please import the following libraries to get started."
   ]
  },
  {
   "cell_type": "code",
   "execution_count": 42,
   "metadata": {
    "colab": {
     "base_uri": "https://localhost:8080/",
     "height": 391
    },
    "colab_type": "code",
    "id": "OokzOlRIBZpf",
    "outputId": "ea418698-b9b8-4f6b-8de8-dd54e0f21678"
   },
   "outputs": [
    {
     "name": "stdout",
     "output_type": "stream",
     "text": [
      "Collecting tensorflow-gpu==1.14.0\n",
      "  Using cached https://files.pythonhosted.org/packages/76/04/43153bfdfcf6c9a4c38ecdb971ca9a75b9a791bb69a764d652c359aca504/tensorflow_gpu-1.14.0-cp36-cp36m-manylinux1_x86_64.whl\n",
      "Requirement already satisfied: google-pasta>=0.1.6 in /mnt/disks/user/anaconda3/lib/python3.6/site-packages (from tensorflow-gpu==1.14.0) (0.2.0)\n",
      "Requirement already satisfied: tensorboard<1.15.0,>=1.14.0 in /mnt/disks/user/anaconda3/lib/python3.6/site-packages (from tensorflow-gpu==1.14.0) (1.14.0)\n",
      "Collecting wrapt>=1.11.1 (from tensorflow-gpu==1.14.0)\n",
      "Requirement already satisfied: astor>=0.6.0 in /mnt/disks/user/anaconda3/lib/python3.6/site-packages (from tensorflow-gpu==1.14.0) (0.7.1)\n",
      "Requirement already satisfied: gast>=0.2.0 in /mnt/disks/user/anaconda3/lib/python3.6/site-packages (from tensorflow-gpu==1.14.0) (0.2.0)\n",
      "Requirement already satisfied: numpy<2.0,>=1.14.5 in /mnt/disks/user/anaconda3/lib/python3.6/site-packages (from tensorflow-gpu==1.14.0) (1.14.5)\n",
      "Requirement already satisfied: absl-py>=0.7.0 in /mnt/disks/user/anaconda3/lib/python3.6/site-packages (from tensorflow-gpu==1.14.0) (0.9.0)\n",
      "Requirement already satisfied: wheel>=0.26 in /mnt/disks/user/anaconda3/lib/python3.6/site-packages (from tensorflow-gpu==1.14.0) (0.31.1)\n",
      "Requirement already satisfied: tensorflow-estimator<1.15.0rc0,>=1.14.0rc0 in /mnt/disks/user/anaconda3/lib/python3.6/site-packages (from tensorflow-gpu==1.14.0) (1.14.0)\n",
      "Requirement already satisfied: termcolor>=1.1.0 in /mnt/disks/user/anaconda3/lib/python3.6/site-packages (from tensorflow-gpu==1.14.0) (1.1.0)\n",
      "Requirement already satisfied: grpcio>=1.8.6 in /mnt/disks/user/anaconda3/lib/python3.6/site-packages (from tensorflow-gpu==1.14.0) (1.15.0)\n",
      "Requirement already satisfied: keras-applications>=1.0.6 in /mnt/disks/user/anaconda3/lib/python3.6/site-packages (from tensorflow-gpu==1.14.0) (1.0.7)\n",
      "Requirement already satisfied: protobuf>=3.6.1 in /mnt/disks/user/anaconda3/lib/python3.6/site-packages (from tensorflow-gpu==1.14.0) (3.6.1)\n",
      "Requirement already satisfied: six>=1.10.0 in /mnt/disks/user/anaconda3/lib/python3.6/site-packages (from tensorflow-gpu==1.14.0) (1.11.0)\n",
      "Requirement already satisfied: keras-preprocessing>=1.0.5 in /mnt/disks/user/anaconda3/lib/python3.6/site-packages (from tensorflow-gpu==1.14.0) (1.1.0)\n",
      "Requirement already satisfied: markdown>=2.6.8 in /mnt/disks/user/anaconda3/lib/python3.6/site-packages (from tensorboard<1.15.0,>=1.14.0->tensorflow-gpu==1.14.0) (3.0.1)\n",
      "Requirement already satisfied: setuptools>=41.0.0 in /mnt/disks/user/anaconda3/lib/python3.6/site-packages (from tensorboard<1.15.0,>=1.14.0->tensorflow-gpu==1.14.0) (46.0.0)\n",
      "Requirement already satisfied: werkzeug>=0.11.15 in /mnt/disks/user/anaconda3/lib/python3.6/site-packages (from tensorboard<1.15.0,>=1.14.0->tensorflow-gpu==1.14.0) (0.14.1)\n",
      "Requirement already satisfied: h5py in /mnt/disks/user/anaconda3/lib/python3.6/site-packages (from keras-applications>=1.0.6->tensorflow-gpu==1.14.0) (2.9.0)\n",
      "\u001b[31mthinc 6.10.3 has requirement wrapt<1.11.0,>=1.10.0, but you'll have wrapt 1.12.1 which is incompatible.\u001b[0m\n",
      "\u001b[31mspacy 2.0.12 has requirement regex==2017.4.5, but you'll have regex 2017.11.9 which is incompatible.\u001b[0m\n",
      "Installing collected packages: wrapt, tensorflow-gpu\n",
      "  Found existing installation: wrapt 1.10.11\n",
      "\u001b[31mCannot uninstall 'wrapt'. It is a distutils installed project and thus we cannot accurately determine which files belong to it which would lead to only a partial uninstall.\u001b[0m\n",
      "\u001b[33mYou are using pip version 19.0.1, however version 20.0.2 is available.\n",
      "You should consider upgrading via the 'pip install --upgrade pip' command.\u001b[0m\n",
      "Requirement already satisfied: scipy==1.2.1 in /mnt/disks/user/anaconda3/lib/python3.6/site-packages (1.2.1)\n",
      "Requirement already satisfied: numpy>=1.8.2 in /mnt/disks/user/anaconda3/lib/python3.6/site-packages (from scipy==1.2.1) (1.14.5)\n",
      "\u001b[33mYou are using pip version 19.0.1, however version 20.0.2 is available.\n",
      "You should consider upgrading via the 'pip install --upgrade pip' command.\u001b[0m\n",
      "Requirement already satisfied: keras_applications==1.0.7 in /mnt/disks/user/anaconda3/lib/python3.6/site-packages (1.0.7)\n",
      "Requirement already satisfied: numpy>=1.9.1 in /mnt/disks/user/anaconda3/lib/python3.6/site-packages (from keras_applications==1.0.7) (1.14.5)\n",
      "Requirement already satisfied: h5py in /mnt/disks/user/anaconda3/lib/python3.6/site-packages (from keras_applications==1.0.7) (2.9.0)\n",
      "Requirement already satisfied: six in /mnt/disks/user/anaconda3/lib/python3.6/site-packages (from h5py->keras_applications==1.0.7) (1.11.0)\n",
      "\u001b[33mYou are using pip version 19.0.1, however version 20.0.2 is available.\n",
      "You should consider upgrading via the 'pip install --upgrade pip' command.\u001b[0m\n"
     ]
    }
   ],
   "source": [
    "!pip install tensorflow-gpu==1.14.0\n",
    "!pip install scipy==1.2.1\n",
    "!pip install keras_applications==1.0.7"
   ]
  },
  {
   "cell_type": "code",
   "execution_count": 43,
   "metadata": {
    "colab": {},
    "colab_type": "code",
    "id": "b4-GD9JtO7kg"
   },
   "outputs": [],
   "source": [
    "import numpy as np\n",
    "import os\n",
    "#from matplotlib.pyplot import imread\n",
    "from scipy.misc import imread, imresize\n",
    "import datetime\n",
    "import os"
   ]
  },
  {
   "cell_type": "markdown",
   "metadata": {
    "colab_type": "text",
    "id": "-BVtIBP9O7kk"
   },
   "source": [
    "We set the random seed so that the results don't vary drastically."
   ]
  },
  {
   "cell_type": "code",
   "execution_count": 44,
   "metadata": {
    "colab": {},
    "colab_type": "code",
    "id": "lgayu2S8O7kl"
   },
   "outputs": [],
   "source": [
    "np.random.seed(30)\n",
    "import random as rn\n",
    "rn.seed(30)\n",
    "#from keras import backend as K\n",
    "import tensorflow as tf\n",
    "tf.set_random_seed(30)"
   ]
  },
  {
   "cell_type": "code",
   "execution_count": 45,
   "metadata": {
    "colab": {
     "base_uri": "https://localhost:8080/",
     "height": 34
    },
    "colab_type": "code",
    "id": "2Qj3e9Ppi7oo",
    "outputId": "da566eb1-b361-4e97-ec82-b6f737270dee"
   },
   "outputs": [],
   "source": [
    "#from google.colab import drive\n",
    "#drive.mount('/content/drive')"
   ]
  },
  {
   "cell_type": "markdown",
   "metadata": {
    "colab_type": "text",
    "id": "WvycjRyMO7ko"
   },
   "source": [
    "In this block, you read the folder names for training and validation. You also set the `batch_size` here. Note that you set the batch size in such a way that you are able to use the GPU in full capacity. You keep increasing the batch size until the machine throws an error."
   ]
  },
  {
   "cell_type": "code",
   "execution_count": 46,
   "metadata": {
    "cellView": "code",
    "colab": {},
    "colab_type": "code",
    "id": "qkUoQk96O7kp"
   },
   "outputs": [],
   "source": [
    "#@title Default title text\n",
    "train_doc = np.random.permutation(open('Project_data/train.csv').readlines())\n",
    "val_doc = np.random.permutation(open('Project_data/val.csv').readlines())\n",
    "\n",
    "batch_size = 18"
   ]
  },
  {
   "cell_type": "code",
   "execution_count": 47,
   "metadata": {},
   "outputs": [
    {
     "name": "stderr",
     "output_type": "stream",
     "text": [
      "/mnt/disks/user/anaconda3/lib/python3.6/site-packages/ipykernel_launcher.py:3: DeprecationWarning: `imread` is deprecated!\n",
      "`imread` is deprecated in SciPy 1.0.0, and will be removed in 1.2.0.\n",
      "Use ``imageio.imread`` instead.\n",
      "  This is separate from the ipykernel package so we can avoid doing imports until\n",
      "/mnt/disks/user/anaconda3/lib/python3.6/site-packages/skimage/transform/_warps.py:105: UserWarning: The default mode, 'constant', will be changed to 'reflect' in skimage 0.15.\n",
      "  warn(\"The default mode, 'constant', will be changed to 'reflect' in \"\n",
      "/mnt/disks/user/anaconda3/lib/python3.6/site-packages/skimage/transform/_warps.py:110: UserWarning: Anti-aliasing will be enabled by default in skimage 0.15 to avoid aliasing artifacts when down-sampling images.\n",
      "  warn(\"Anti-aliasing will be enabled by default in skimage 0.15 to \"\n"
     ]
    },
    {
     "data": {
      "text/plain": [
       "<matplotlib.image.AxesImage at 0x7fbc834ca9e8>"
      ]
     },
     "execution_count": 47,
     "metadata": {},
     "output_type": "execute_result"
    },
    {
     "data": {
      "image/png": "[encoded data removed]",
      "text/plain": [
       "<Figure size 432x288 with 1 Axes>"
      ]
     },
     "metadata": {},
     "output_type": "display_data"
    }
   ],
   "source": [
    "from skimage.transform import resize\n",
    "import matplotlib.pyplot as plt\n",
    "image = imread('Project_data/train/WIN_20180925_17_29_33_Pro_Stop_new/WIN_20180925_17_29_33_Pro_00002.png')\n",
    "img_resized = resize(image, (80, 80))\n",
    "plt.imshow(img_resized)"
   ]
  },
  {
   "cell_type": "markdown",
   "metadata": {
    "colab_type": "text",
    "id": "qbZKnozpO7kt"
   },
   "source": [
    "## Generator\n",
    "This is one of the most important part of the code. The overall structure of the generator has been given. In the generator, you are going to preprocess the images as you have images of 2 different dimensions as well as create a batch of video frames. You have to experiment with `img_idx`, `y`,`z` and normalization such that you get high accuracy."
   ]
  },
  {
   "cell_type": "code",
   "execution_count": 48,
   "metadata": {
    "colab": {},
    "colab_type": "code",
    "id": "-vfRMA6yO7ku"
   },
   "outputs": [],
   "source": [
    "import matplotlib.pyplot as plt\n",
    "from matplotlib.pyplot import imread\n",
    "from skimage.transform import resize\n",
    "%matplotlib inline\n",
    "\n",
    "def generator(source_path, folder_list, batch_size):\n",
    "    print( 'Source path = ', source_path, '; batch size =', batch_size)\n",
    "    img_idx = {1,3,5,7,9,11,13,15,17,19,21,23,25,27,29} #create a list of image numbers you want to use for a particular video\n",
    "    while True:\n",
    "        t = np.random.permutation(folder_list)\n",
    "        num_batches = len(folder_list)//batch_size  # calculate the number of batches\n",
    "        for batch in range(num_batches): # we iterate over the number of batches\n",
    "            batch_data = np.zeros((batch_size,len(img_idx),80,80,3)) # x is the number of images you use for each video, (y,z) is the final size of the input images and 3 is the number of channels RGB\n",
    "            batch_labels = np.zeros((batch_size,5)) # batch_labels is the one hot representation of the output\n",
    "            for folder in range(batch_size): # iterate over the batch_size\n",
    "                imgs = os.listdir(source_path+'/'+ t[folder + (batch*batch_size)].split(';')[0]) # read all the images in the folder\n",
    "                for idx,item in enumerate(img_idx): #  Iterate over the frames/images of a folder to read them in\n",
    "                    image = imread(source_path+'/'+ t[folder + (batch*batch_size)].strip().split(';')[0]+'/'+imgs[item]).astype(np.float32)\n",
    "                    \n",
    "                    #crop the images and resize them. Note that the images are of 2 different shape \n",
    "                    #and the conv3D will throw error if the inputs in a batch have different shapes\n",
    "                    \n",
    "                    #if image.shape[0] > 160 and image.shape[1] > 160:\n",
    "                    #  img_resized = resize(image, (80, 100))\n",
    "                    #else:\n",
    "                    #  img_resized = image \n",
    "                    \n",
    "                    img_resized = resize(image, (80, 80))\n",
    "                 \n",
    "                    batch_data[folder,idx,:,:,0] = img_resized[:,:,0]/255 #normalise and feed in the image\n",
    "                    batch_data[folder,idx,:,:,1] = img_resized[:,:,1]/255 #normalise and feed in the image\n",
    "                    batch_data[folder,idx,:,:,2] = img_resized[:,:,2]/255 #normalise and feed in the image\n",
    "\n",
    "                batch_labels[folder, int(t[folder + (batch*batch_size)].strip().split(';')[2])] = 1\n",
    "            yield batch_data, batch_labels #you yield the batch_data and the batch_labels, remember what does yield do\n",
    "\n",
    "        \n",
    "        # write the code for the remaining data points which are left after full batches\n",
    "        rem_train_size = len(folder_list)%batch_size \n",
    "        batch_data = np.zeros((rem_train_size,len(img_idx),80,80,3)) # x is the number of images you use for each video, (y,z) is the final size of the input images and 3 is the number of channels RGB\n",
    "        batch_labels = np.zeros((rem_train_size,5)) # batch_labels is the one hot representation of the output\n",
    "        for folder in range(rem_train_size): # iterate over the remaining training folders\n",
    "            imgs = os.listdir(source_path+'/'+ t[folder + (num_batches*batch_size)].split(';')[0]) # read all the images in the folder\n",
    "            for idx,item in enumerate(img_idx): #  Iterate iver the frames/images of a folder to read them in\n",
    "                image = imread(source_path+'/'+ t[folder + (num_batches*batch_size)].strip().split(';')[0]+'/'+imgs[item]).astype(np.float32)\n",
    "                    \n",
    "                #crop the images and resize them. Note that the images are of 2 different shape \n",
    "                #and the conv3D will throw error if the inputs in a batch have different shapes\n",
    "                \n",
    "                #if image.shape[0] > 160 and image.shape[1] > 160:\n",
    "                #  img_resized = resize(image, (80, 100))\n",
    "                #else:\n",
    "                #  img_resized = image\n",
    "                \n",
    "                img_resized = resize(image, (80, 80))\n",
    "                    \n",
    "                batch_data[folder,idx,:,:,0] = img_resized[:,:,0]/255 #normalise and feed in the image\n",
    "                batch_data[folder,idx,:,:,1] = img_resized[:,:,1]/255 #normalise and feed in the image\n",
    "                batch_data[folder,idx,:,:,2] = img_resized[:,:,2]/255 #normalise and feed in the image\n",
    "                    \n",
    "            batch_labels[folder, int(t[folder + (batch*batch_size)].strip().split(';')[2])] = 1\n",
    "        yield batch_data, batch_labels #you yield the batch_data and the batch_labels, remember what does yield do\n"
   ]
  },
  {
   "cell_type": "markdown",
   "metadata": {
    "colab_type": "text",
    "id": "AgkemSZgO7kx"
   },
   "source": [
    "Note here that a video is represented above in the generator as (number of images, height, width, number of channels). Take this into consideration while creating the model architecture."
   ]
  },
  {
   "cell_type": "code",
   "execution_count": 49,
   "metadata": {
    "colab": {
     "base_uri": "https://localhost:8080/",
     "height": 68
    },
    "colab_type": "code",
    "id": "1LIAoVUpO7ky",
    "outputId": "84335605-a633-4385-8438-56278ce83881"
   },
   "outputs": [
    {
     "name": "stdout",
     "output_type": "stream",
     "text": [
      "# training sequences = 663\n",
      "# validation sequences = 100\n",
      "# epochs = 50\n"
     ]
    }
   ],
   "source": [
    "curr_dt_time = datetime.datetime.now()\n",
    "train_path = 'Project_data/train'\n",
    "val_path = 'Project_data/val'\n",
    "num_train_sequences = len(train_doc)\n",
    "print('# training sequences =', num_train_sequences)\n",
    "num_val_sequences = len(val_doc)\n",
    "print('# validation sequences =', num_val_sequences)\n",
    "num_epochs = 50 # choose the number of epochs\n",
    "print ('# epochs =', num_epochs)"
   ]
  },
  {
   "cell_type": "markdown",
   "metadata": {
    "colab_type": "text",
    "id": "ExRKfrl5O7k1"
   },
   "source": [
    "## Model 1\n",
    "Here you make the model using different functionalities that Keras provides. Remember to use `Conv3D` and `MaxPooling3D` and not `Conv2D` and `Maxpooling2D` for a 3D convolution model. You would want to use `TimeDistributed` while building a Conv2D + RNN model. Also remember that the last layer is the softmax. Design the network in such a way that the model is able to give good accuracy on the least number of parameters so that it can fit in the memory of the webcam."
   ]
  },
  {
   "cell_type": "code",
   "execution_count": 50,
   "metadata": {
    "colab": {
     "base_uri": "https://localhost:8080/",
     "height": 391
    },
    "colab_type": "code",
    "id": "z1lHHhdyO7k4",
    "outputId": "399a3478-8de4-4c32-fb52-5abc9016fc2a"
   },
   "outputs": [
    {
     "name": "stdout",
     "output_type": "stream",
     "text": [
      "_________________________________________________________________\n",
      "Layer (type)                 Output Shape              Param #   \n",
      "=================================================================\n",
      "conv3d_5 (Conv3D)            (None, 15, 80, 80, 32)    2624      \n",
      "_________________________________________________________________\n",
      "max_pooling3d_5 (MaxPooling3 (None, 7, 40, 40, 32)     0         \n",
      "_________________________________________________________________\n",
      "batch_normalization_11 (Batc (None, 7, 40, 40, 32)     128       \n",
      "_________________________________________________________________\n",
      "conv3d_6 (Conv3D)            (None, 7, 40, 40, 64)     55360     \n",
      "_________________________________________________________________\n",
      "max_pooling3d_6 (MaxPooling3 (None, 3, 20, 20, 64)     0         \n",
      "_________________________________________________________________\n",
      "batch_normalization_12 (Batc (None, 3, 20, 20, 64)     256       \n",
      "_________________________________________________________________\n",
      "dropout_7 (Dropout)          (None, 3, 20, 20, 64)     0         \n",
      "_________________________________________________________________\n",
      "flatten_5 (Flatten)          (None, 76800)             0         \n",
      "_________________________________________________________________\n",
      "dense_7 (Dense)              (None, 128)               9830528   \n",
      "_________________________________________________________________\n",
      "dropout_8 (Dropout)          (None, 128)               0         \n",
      "_________________________________________________________________\n",
      "dense_8 (Dense)              (None, 5)                 645       \n",
      "=================================================================\n",
      "Total params: 9,889,541\n",
      "Trainable params: 9,889,349\n",
      "Non-trainable params: 192\n",
      "_________________________________________________________________\n"
     ]
    }
   ],
   "source": [
    "from keras.models import Sequential, Model\n",
    "from keras.layers import Dense, GRU, Flatten, TimeDistributed, Flatten, BatchNormalization, Activation, Dropout\n",
    "from keras.layers.convolutional import Conv3D, MaxPooling3D\n",
    "from keras.callbacks import ModelCheckpoint, ReduceLROnPlateau, EarlyStopping\n",
    "from keras import optimizers\n",
    "from keras.optimizers import Adam\n",
    "\n",
    "input_shape = (15, 80, 80, 3)\n",
    "num_classes = 5\n",
    "\n",
    "#write your model here\n",
    "conv3d_model = Sequential()\n",
    "conv3d_model.add(Conv3D(32, kernel_size=(3, 3, 3), activation='relu', padding='same', \n",
    "                 kernel_initializer='he_uniform',  input_shape=input_shape))\n",
    "conv3d_model.add(MaxPooling3D(pool_size=(2, 2, 2)))\n",
    "conv3d_model.add(BatchNormalization())\n",
    "conv3d_model.add(Conv3D(64, kernel_size=(3, 3, 3), activation='relu', padding='same',\n",
    "                 kernel_initializer='he_uniform'))\n",
    "conv3d_model.add(MaxPooling3D(pool_size=(2, 2, 2)))\n",
    "conv3d_model.add(BatchNormalization())\n",
    "conv3d_model.add(Dropout(0.25))\n",
    "\n",
    "conv3d_model.add(Flatten())\n",
    "conv3d_model.add(Dense(128, activation='relu')) # fully connected\n",
    "conv3d_model.add(Dropout(0.5))\n",
    "conv3d_model.add(Dense(num_classes, activation='softmax', kernel_initializer='he_uniform'))\n",
    "conv3d_model.summary()"
   ]
  },
  {
   "cell_type": "markdown",
   "metadata": {
    "colab_type": "text",
    "id": "fV2PWurFO7k7"
   },
   "source": [
    "Now that you have written the model, the next step is to `compile` the model. When you print the `summary` of the model, you'll see the total number of parameters you have to train."
   ]
  },
  {
   "cell_type": "code",
   "execution_count": 51,
   "metadata": {
    "colab": {
     "base_uri": "https://localhost:8080/",
     "height": 408
    },
    "colab_type": "code",
    "id": "aQyETTawO7k8",
    "outputId": "3fab4a47-b827-4b88-a8ff-372c654ab125",
    "scrolled": true
   },
   "outputs": [
    {
     "name": "stdout",
     "output_type": "stream",
     "text": [
      "_________________________________________________________________\n",
      "Layer (type)                 Output Shape              Param #   \n",
      "=================================================================\n",
      "conv3d_5 (Conv3D)            (None, 15, 80, 80, 32)    2624      \n",
      "_________________________________________________________________\n",
      "max_pooling3d_5 (MaxPooling3 (None, 7, 40, 40, 32)     0         \n",
      "_________________________________________________________________\n",
      "batch_normalization_11 (Batc (None, 7, 40, 40, 32)     128       \n",
      "_________________________________________________________________\n",
      "conv3d_6 (Conv3D)            (None, 7, 40, 40, 64)     55360     \n",
      "_________________________________________________________________\n",
      "max_pooling3d_6 (MaxPooling3 (None, 3, 20, 20, 64)     0         \n",
      "_________________________________________________________________\n",
      "batch_normalization_12 (Batc (None, 3, 20, 20, 64)     256       \n",
      "_________________________________________________________________\n",
      "dropout_7 (Dropout)          (None, 3, 20, 20, 64)     0         \n",
      "_________________________________________________________________\n",
      "flatten_5 (Flatten)          (None, 76800)             0         \n",
      "_________________________________________________________________\n",
      "dense_7 (Dense)              (None, 128)               9830528   \n",
      "_________________________________________________________________\n",
      "dropout_8 (Dropout)          (None, 128)               0         \n",
      "_________________________________________________________________\n",
      "dense_8 (Dense)              (None, 5)                 645       \n",
      "=================================================================\n",
      "Total params: 9,889,541\n",
      "Trainable params: 9,889,349\n",
      "Non-trainable params: 192\n",
      "_________________________________________________________________\n",
      "None\n"
     ]
    }
   ],
   "source": [
    "optimiser = Adam(lr=0.0001)\n",
    "conv3d_model.compile(optimizer=optimiser, loss='categorical_crossentropy', metrics=['categorical_accuracy'])\n",
    "print (conv3d_model.summary())"
   ]
  },
  {
   "cell_type": "markdown",
   "metadata": {
    "colab_type": "text",
    "id": "kuJUqwH8O7k_"
   },
   "source": [
    "Let us create the `train_generator` and the `val_generator` which will be used in `.fit_generator`."
   ]
  },
  {
   "cell_type": "code",
   "execution_count": 52,
   "metadata": {
    "colab": {},
    "colab_type": "code",
    "id": "wRmRNPkWO7lA"
   },
   "outputs": [],
   "source": [
    "train_generator = generator(train_path, train_doc, batch_size)\n",
    "val_generator = generator(val_path, val_doc, batch_size)"
   ]
  },
  {
   "cell_type": "code",
   "execution_count": 53,
   "metadata": {
    "colab": {},
    "colab_type": "code",
    "id": "aPGrtcWhO7lD"
   },
   "outputs": [],
   "source": [
    "model_name = 'conv3d_model' + '_' + str(curr_dt_time).replace(' ','').replace(':','_') + '/'\n",
    "    \n",
    "if not os.path.exists(model_name):\n",
    "    os.mkdir(model_name)\n",
    "        \n",
    "filepath = model_name + 'conv_3d-{epoch:05d}-{loss:.5f}-{categorical_accuracy:.5f}-{val_loss:.5f}-{val_categorical_accuracy:.5f}.h5'\n",
    "checkpoint = ModelCheckpoint(filepath, monitor='val_loss', verbose=1, save_best_only=False, save_weights_only=False, mode='auto', period=1)\n",
    "\n",
    "LR = ReduceLROnPlateau(monitor='val_loss', factor=0.2, patience=5, min_lr=0.0005)\n",
    "# ES = EarlyStopping(monitor='val_loss', min_delta=0, patience=7, verbose=0, mode='auto', baseline=None)\n",
    "\n",
    "callbacks_list = [checkpoint, LR]"
   ]
  },
  {
   "cell_type": "markdown",
   "metadata": {
    "colab_type": "text",
    "id": "LacqCMP_O7lG"
   },
   "source": [
    "The `steps_per_epoch` and `validation_steps` are used by `fit_generator` to decide the number of next() calls it need to make."
   ]
  },
  {
   "cell_type": "code",
   "execution_count": 54,
   "metadata": {
    "colab": {},
    "colab_type": "code",
    "id": "FGCgRAw8O7lG"
   },
   "outputs": [],
   "source": [
    "if (num_train_sequences%batch_size) == 0:\n",
    "    steps_per_epoch = int(num_train_sequences/batch_size)\n",
    "else:\n",
    "    steps_per_epoch = (num_train_sequences//batch_size) + 1\n",
    "\n",
    "if (num_val_sequences%batch_size) == 0:\n",
    "    validation_steps = int(num_val_sequences/batch_size)\n",
    "else:\n",
    "    validation_steps = (num_val_sequences//batch_size) + 1"
   ]
  },
  {
   "cell_type": "markdown",
   "metadata": {
    "colab_type": "text",
    "id": "ZjsfFFvEO7lJ"
   },
   "source": [
    "Let us now fit the model. This will start training the model and with the help of the checkpoints, you'll be able to save the model at the end of each epoch."
   ]
  },
  {
   "cell_type": "code",
   "execution_count": 55,
   "metadata": {
    "colab": {
     "base_uri": "https://localhost:8080/",
     "height": 122
    },
    "colab_type": "code",
    "id": "jL-y4mezO7lK",
    "outputId": "18c6b496-1b2c-4e31-c8ec-24685f7445bf"
   },
   "outputs": [
    {
     "name": "stdout",
     "output_type": "stream",
     "text": [
      "Source path =  Project_data/val ; batch size = 18\n",
      "Source path =  Project_data/train ; batch size = 18\n",
      "Epoch 1/50\n"
     ]
    },
    {
     "name": "stderr",
     "output_type": "stream",
     "text": [
      "/mnt/disks/user/anaconda3/lib/python3.6/site-packages/skimage/transform/_warps.py:105: UserWarning: The default mode, 'constant', will be changed to 'reflect' in skimage 0.15.\n",
      "  warn(\"The default mode, 'constant', will be changed to 'reflect' in \"\n",
      "/mnt/disks/user/anaconda3/lib/python3.6/site-packages/skimage/transform/_warps.py:110: UserWarning: Anti-aliasing will be enabled by default in skimage 0.15 to avoid aliasing artifacts when down-sampling images.\n",
      "  warn(\"Anti-aliasing will be enabled by default in skimage 0.15 to \"\n"
     ]
    },
    {
     "name": "stdout",
     "output_type": "stream",
     "text": [
      "37/37 [==============================] - 62s 2s/step - loss: 1.8343 - categorical_accuracy: 0.3955 - val_loss: 1.4547 - val_categorical_accuracy: 0.4900\n",
      "\n",
      "Epoch 00001: saving model to conv3d_model_2020-03-2913_12_58.605566/conv_3d-00001-1.82253-0.39668-1.45469-0.49000.h5\n",
      "Epoch 2/50\n",
      "37/37 [==============================] - 49s 1s/step - loss: 0.8996 - categorical_accuracy: 0.6826 - val_loss: 1.2462 - val_categorical_accuracy: 0.5900\n",
      "\n",
      "Epoch 00002: saving model to conv3d_model_2020-03-2913_12_58.605566/conv_3d-00002-0.88514-0.68477-1.24622-0.59000.h5\n",
      "Epoch 3/50\n",
      "37/37 [==============================] - 50s 1s/step - loss: 0.6865 - categorical_accuracy: 0.7589 - val_loss: 1.1586 - val_categorical_accuracy: 0.6800\n",
      "\n",
      "Epoch 00003: saving model to conv3d_model_2020-03-2913_12_58.605566/conv_3d-00003-0.66797-0.76169-1.15860-0.68000.h5\n",
      "Epoch 4/50\n",
      "37/37 [==============================] - 50s 1s/step - loss: 0.5557 - categorical_accuracy: 0.8028 - val_loss: 0.9507 - val_categorical_accuracy: 0.7400\n",
      "\n",
      "Epoch 00004: saving model to conv3d_model_2020-03-2913_12_58.605566/conv_3d-00004-0.54203-0.80543-0.95074-0.74000.h5\n",
      "Epoch 5/50\n",
      "37/37 [==============================] - 50s 1s/step - loss: 0.5203 - categorical_accuracy: 0.8620 - val_loss: 1.1582 - val_categorical_accuracy: 0.6400\n",
      "\n",
      "Epoch 00005: saving model to conv3d_model_2020-03-2913_12_58.605566/conv_3d-00005-0.49229-0.86576-1.15819-0.64000.h5\n",
      "Epoch 6/50\n",
      "37/37 [==============================] - 50s 1s/step - loss: 0.4584 - categorical_accuracy: 0.8824 - val_loss: 1.0991 - val_categorical_accuracy: 0.6900\n",
      "\n",
      "Epoch 00006: saving model to conv3d_model_2020-03-2913_12_58.605566/conv_3d-00006-0.43706-0.88537-1.09913-0.69000.h5\n",
      "Epoch 7/50\n",
      "37/37 [==============================] - 59s 2s/step - loss: 0.3968 - categorical_accuracy: 0.8998 - val_loss: 1.1753 - val_categorical_accuracy: 0.6900\n",
      "\n",
      "Epoch 00007: saving model to conv3d_model_2020-03-2913_12_58.605566/conv_3d-00007-0.36981-0.90347-1.17526-0.69000.h5\n",
      "Epoch 8/50\n",
      "37/37 [==============================] - 56s 2s/step - loss: 0.3922 - categorical_accuracy: 0.9094 - val_loss: 0.9301 - val_categorical_accuracy: 0.6700\n",
      "\n",
      "Epoch 00008: saving model to conv3d_model_2020-03-2913_12_58.605566/conv_3d-00008-0.36547-0.91252-0.93007-0.67000.h5\n",
      "Epoch 9/50\n",
      "37/37 [==============================] - 55s 1s/step - loss: 0.3398 - categorical_accuracy: 0.9217 - val_loss: 0.9572 - val_categorical_accuracy: 0.7300\n",
      "\n",
      "Epoch 00009: saving model to conv3d_model_2020-03-2913_12_58.605566/conv_3d-00009-0.32097-0.92459-0.95720-0.73000.h5\n",
      "Epoch 10/50\n",
      "37/37 [==============================] - 51s 1s/step - loss: 0.4118 - categorical_accuracy: 0.9313 - val_loss: 1.1220 - val_categorical_accuracy: 0.6600\n",
      "\n",
      "Epoch 00010: saving model to conv3d_model_2020-03-2913_12_58.605566/conv_3d-00010-0.37793-0.93514-1.12205-0.66000.h5\n",
      "Epoch 11/50\n",
      "37/37 [==============================] - 54s 1s/step - loss: 0.3536 - categorical_accuracy: 0.9418 - val_loss: 0.8377 - val_categorical_accuracy: 0.6600\n",
      "\n",
      "Epoch 00011: saving model to conv3d_model_2020-03-2913_12_58.605566/conv_3d-00011-0.32374-0.94570-0.83770-0.66000.h5\n",
      "Epoch 12/50\n",
      "37/37 [==============================] - 51s 1s/step - loss: 0.3592 - categorical_accuracy: 0.9409 - val_loss: 1.1532 - val_categorical_accuracy: 0.6400\n",
      "\n",
      "Epoch 00012: saving model to conv3d_model_2020-03-2913_12_58.605566/conv_3d-00012-0.33044-0.94419-1.15323-0.64000.h5\n",
      "Epoch 13/50\n",
      "37/37 [==============================] - 54s 1s/step - loss: 0.2664 - categorical_accuracy: 0.9523 - val_loss: 1.0745 - val_categorical_accuracy: 0.6500\n",
      "\n",
      "Epoch 00013: saving model to conv3d_model_2020-03-2913_12_58.605566/conv_3d-00013-0.24601-0.95475-1.07454-0.65000.h5\n",
      "Epoch 14/50\n",
      "37/37 [==============================] - 59s 2s/step - loss: 0.3075 - categorical_accuracy: 0.9439 - val_loss: 0.9599 - val_categorical_accuracy: 0.7100\n",
      "\n",
      "Epoch 00014: saving model to conv3d_model_2020-03-2913_12_58.605566/conv_3d-00014-0.28061-0.94721-0.95992-0.71000.h5\n",
      "Epoch 15/50\n",
      "37/37 [==============================] - 51s 1s/step - loss: 0.3848 - categorical_accuracy: 0.9439 - val_loss: 0.9661 - val_categorical_accuracy: 0.7000\n",
      "\n",
      "Epoch 00015: saving model to conv3d_model_2020-03-2913_12_58.605566/conv_3d-00015-0.34584-0.94721-0.96610-0.70000.h5\n",
      "Epoch 16/50\n",
      "37/37 [==============================] - 50s 1s/step - loss: 0.2891 - categorical_accuracy: 0.9361 - val_loss: 0.8562 - val_categorical_accuracy: 0.7100\n",
      "\n",
      "Epoch 00016: saving model to conv3d_model_2020-03-2913_12_58.605566/conv_3d-00016-0.27161-0.93967-0.85622-0.71000.h5\n",
      "Epoch 17/50\n",
      "37/37 [==============================] - 55s 1s/step - loss: 0.2566 - categorical_accuracy: 0.9484 - val_loss: 1.3082 - val_categorical_accuracy: 0.6900\n",
      "\n",
      "Epoch 00017: saving model to conv3d_model_2020-03-2913_12_58.605566/conv_3d-00017-0.23748-0.95173-1.30816-0.69000.h5\n",
      "Epoch 18/50\n",
      "37/37 [==============================] - 51s 1s/step - loss: 0.2665 - categorical_accuracy: 0.9463 - val_loss: 1.1942 - val_categorical_accuracy: 0.6700\n",
      "\n",
      "Epoch 00018: saving model to conv3d_model_2020-03-2913_12_58.605566/conv_3d-00018-0.25000-0.94872-1.19424-0.67000.h5\n",
      "Epoch 19/50\n",
      "37/37 [==============================] - 53s 1s/step - loss: 0.2937 - categorical_accuracy: 0.9514 - val_loss: 1.3759 - val_categorical_accuracy: 0.6900\n",
      "\n",
      "Epoch 00019: saving model to conv3d_model_2020-03-2913_12_58.605566/conv_3d-00019-0.26530-0.95475-1.37588-0.69000.h5\n",
      "Epoch 20/50\n",
      "37/37 [==============================] - 51s 1s/step - loss: 0.2788 - categorical_accuracy: 0.9529 - val_loss: 1.2792 - val_categorical_accuracy: 0.6500\n",
      "\n",
      "Epoch 00020: saving model to conv3d_model_2020-03-2913_12_58.605566/conv_3d-00020-0.24992-0.95626-1.27925-0.65000.h5\n",
      "Epoch 21/50\n",
      "37/37 [==============================] - 59s 2s/step - loss: 0.2619 - categorical_accuracy: 0.9613 - val_loss: 1.0553 - val_categorical_accuracy: 0.6500\n",
      "\n",
      "Epoch 00021: saving model to conv3d_model_2020-03-2913_12_58.605566/conv_3d-00021-0.23942-0.96380-1.05535-0.65000.h5\n",
      "Epoch 22/50\n",
      "37/37 [==============================] - 56s 2s/step - loss: 0.3455 - categorical_accuracy: 0.9617 - val_loss: 1.2317 - val_categorical_accuracy: 0.6400\n",
      "\n",
      "Epoch 00022: saving model to conv3d_model_2020-03-2913_12_58.605566/conv_3d-00022-0.31005-0.96531-1.23171-0.64000.h5\n",
      "Epoch 23/50\n",
      "37/37 [==============================] - 50s 1s/step - loss: 0.2714 - categorical_accuracy: 0.9517 - val_loss: 1.1816 - val_categorical_accuracy: 0.6500\n",
      "\n",
      "Epoch 00023: saving model to conv3d_model_2020-03-2913_12_58.605566/conv_3d-00023-0.24910-0.95475-1.18157-0.65000.h5\n",
      "Epoch 24/50\n",
      "37/37 [==============================] - 50s 1s/step - loss: 0.3001 - categorical_accuracy: 0.9517 - val_loss: 1.3560 - val_categorical_accuracy: 0.6200\n",
      "\n",
      "Epoch 00024: saving model to conv3d_model_2020-03-2913_12_58.605566/conv_3d-00024-0.27205-0.95475-1.35601-0.62000.h5\n",
      "Epoch 25/50\n",
      "37/37 [==============================] - 56s 2s/step - loss: 0.2540 - categorical_accuracy: 0.9629 - val_loss: 2.1691 - val_categorical_accuracy: 0.5300\n",
      "\n",
      "Epoch 00025: saving model to conv3d_model_2020-03-2913_12_58.605566/conv_3d-00025-0.22534-0.96682-2.16906-0.53000.h5\n",
      "Epoch 26/50\n",
      "37/37 [==============================] - 52s 1s/step - loss: 0.2602 - categorical_accuracy: 0.9520 - val_loss: 1.1157 - val_categorical_accuracy: 0.6000\n",
      "\n",
      "Epoch 00026: saving model to conv3d_model_2020-03-2913_12_58.605566/conv_3d-00026-0.23895-0.95475-1.11568-0.60000.h5\n",
      "Epoch 27/50\n",
      "37/37 [==============================] - 50s 1s/step - loss: 0.2694 - categorical_accuracy: 0.9544 - val_loss: 1.0656 - val_categorical_accuracy: 0.6900\n",
      "\n",
      "Epoch 00027: saving model to conv3d_model_2020-03-2913_12_58.605566/conv_3d-00027-0.24487-0.95777-1.06562-0.69000.h5\n",
      "Epoch 28/50\n",
      "37/37 [==============================] - 50s 1s/step - loss: 0.3134 - categorical_accuracy: 0.9484 - val_loss: 0.9376 - val_categorical_accuracy: 0.6700\n",
      "\n",
      "Epoch 00028: saving model to conv3d_model_2020-03-2913_12_58.605566/conv_3d-00028-0.28432-0.95173-0.93760-0.67000.h5\n",
      "Epoch 29/50\n",
      "37/37 [==============================] - 55s 1s/step - loss: 0.2609 - categorical_accuracy: 0.9544 - val_loss: 0.9369 - val_categorical_accuracy: 0.6100\n",
      "\n",
      "Epoch 00029: saving model to conv3d_model_2020-03-2913_12_58.605566/conv_3d-00029-0.23771-0.95777-0.93691-0.61000.h5\n",
      "Epoch 30/50\n"
     ]
    },
    {
     "name": "stdout",
     "output_type": "stream",
     "text": [
      "37/37 [==============================] - 53s 1s/step - loss: 0.2811 - categorical_accuracy: 0.9589 - val_loss: 1.0017 - val_categorical_accuracy: 0.6800\n",
      "\n",
      "Epoch 00030: saving model to conv3d_model_2020-03-2913_12_58.605566/conv_3d-00030-0.25397-0.96229-1.00167-0.68000.h5\n",
      "Epoch 31/50\n",
      "37/37 [==============================] - 50s 1s/step - loss: 0.2784 - categorical_accuracy: 0.9587 - val_loss: 0.7906 - val_categorical_accuracy: 0.7100\n",
      "\n",
      "Epoch 00031: saving model to conv3d_model_2020-03-2913_12_58.605566/conv_3d-00031-0.25100-0.96229-0.79061-0.71000.h5\n",
      "Epoch 32/50\n",
      "37/37 [==============================] - 57s 2s/step - loss: 0.3071 - categorical_accuracy: 0.9535 - val_loss: 0.9678 - val_categorical_accuracy: 0.6800\n",
      "\n",
      "Epoch 00032: saving model to conv3d_model_2020-03-2913_12_58.605566/conv_3d-00032-0.28144-0.95626-0.96780-0.68000.h5\n",
      "Epoch 33/50\n",
      "37/37 [==============================] - 59s 2s/step - loss: 0.2502 - categorical_accuracy: 0.9620 - val_loss: 1.1375 - val_categorical_accuracy: 0.6500\n",
      "\n",
      "Epoch 00033: saving model to conv3d_model_2020-03-2913_12_58.605566/conv_3d-00033-0.22636-0.96531-1.13754-0.65000.h5\n",
      "Epoch 34/50\n",
      "37/37 [==============================] - 58s 2s/step - loss: 0.2740 - categorical_accuracy: 0.9602 - val_loss: 0.8371 - val_categorical_accuracy: 0.7600\n",
      "\n",
      "Epoch 00034: saving model to conv3d_model_2020-03-2913_12_58.605566/conv_3d-00034-0.24268-0.96380-0.83712-0.76000.h5\n",
      "Epoch 35/50\n",
      "37/37 [==============================] - 53s 1s/step - loss: 0.2293 - categorical_accuracy: 0.9580 - val_loss: 1.1822 - val_categorical_accuracy: 0.6600\n",
      "\n",
      "Epoch 00035: saving model to conv3d_model_2020-03-2913_12_58.605566/conv_3d-00035-0.21351-0.96078-1.18216-0.66000.h5\n",
      "Epoch 36/50\n",
      "37/37 [==============================] - 54s 1s/step - loss: 0.2777 - categorical_accuracy: 0.9589 - val_loss: 1.2470 - val_categorical_accuracy: 0.6300\n",
      "\n",
      "Epoch 00036: saving model to conv3d_model_2020-03-2913_12_58.605566/conv_3d-00036-0.24592-0.96229-1.24696-0.63000.h5\n",
      "Epoch 37/50\n",
      "37/37 [==============================] - 50s 1s/step - loss: 0.2920 - categorical_accuracy: 0.9511 - val_loss: 1.0000 - val_categorical_accuracy: 0.6700\n",
      "\n",
      "Epoch 00037: saving model to conv3d_model_2020-03-2913_12_58.605566/conv_3d-00037-0.26288-0.95475-1.00003-0.67000.h5\n",
      "Epoch 38/50\n",
      "37/37 [==============================] - 53s 1s/step - loss: 0.2522 - categorical_accuracy: 0.9542 - val_loss: 1.1051 - val_categorical_accuracy: 0.6300\n",
      "\n",
      "Epoch 00038: saving model to conv3d_model_2020-03-2913_12_58.605566/conv_3d-00038-0.22819-0.95777-1.10510-0.63000.h5\n",
      "Epoch 39/50\n",
      "37/37 [==============================] - 56s 2s/step - loss: 0.2259 - categorical_accuracy: 0.9713 - val_loss: 0.8937 - val_categorical_accuracy: 0.7100\n",
      "\n",
      "Epoch 00039: saving model to conv3d_model_2020-03-2913_12_58.605566/conv_3d-00039-0.20331-0.97436-0.89365-0.71000.h5\n",
      "Epoch 40/50\n",
      "37/37 [==============================] - 50s 1s/step - loss: 0.2661 - categorical_accuracy: 0.9605 - val_loss: 1.0690 - val_categorical_accuracy: 0.6600\n",
      "\n",
      "Epoch 00040: saving model to conv3d_model_2020-03-2913_12_58.605566/conv_3d-00040-0.23638-0.96380-1.06898-0.66000.h5\n",
      "Epoch 41/50\n",
      "37/37 [==============================] - 52s 1s/step - loss: 0.2876 - categorical_accuracy: 0.9614 - val_loss: 0.9172 - val_categorical_accuracy: 0.6800\n",
      "\n",
      "Epoch 00041: saving model to conv3d_model_2020-03-2913_12_58.605566/conv_3d-00041-0.25612-0.96531-0.91715-0.68000.h5\n",
      "Epoch 42/50\n",
      "37/37 [==============================] - 52s 1s/step - loss: 0.2399 - categorical_accuracy: 0.9652 - val_loss: 1.1650 - val_categorical_accuracy: 0.6100\n",
      "\n",
      "Epoch 00042: saving model to conv3d_model_2020-03-2913_12_58.605566/conv_3d-00042-0.21731-0.96833-1.16502-0.61000.h5\n",
      "Epoch 43/50\n",
      "37/37 [==============================] - 50s 1s/step - loss: 0.2777 - categorical_accuracy: 0.9544 - val_loss: 1.3401 - val_categorical_accuracy: 0.5700\n",
      "\n",
      "Epoch 00043: saving model to conv3d_model_2020-03-2913_12_58.605566/conv_3d-00043-0.25021-0.95777-1.34008-0.57000.h5\n",
      "Epoch 44/50\n",
      "37/37 [==============================] - 50s 1s/step - loss: 0.2328 - categorical_accuracy: 0.9620 - val_loss: 1.0474 - val_categorical_accuracy: 0.6800\n",
      "\n",
      "Epoch 00044: saving model to conv3d_model_2020-03-2913_12_58.605566/conv_3d-00044-0.20919-0.96531-1.04737-0.68000.h5\n",
      "Epoch 45/50\n",
      "37/37 [==============================] - 50s 1s/step - loss: 0.3050 - categorical_accuracy: 0.9557 - val_loss: 0.9827 - val_categorical_accuracy: 0.6800\n",
      "\n",
      "Epoch 00045: saving model to conv3d_model_2020-03-2913_12_58.605566/conv_3d-00045-0.27235-0.95928-0.98273-0.68000.h5\n",
      "Epoch 46/50\n",
      "37/37 [==============================] - 58s 2s/step - loss: 0.3239 - categorical_accuracy: 0.9524 - val_loss: 1.0047 - val_categorical_accuracy: 0.6900\n",
      "\n",
      "Epoch 00046: saving model to conv3d_model_2020-03-2913_12_58.605566/conv_3d-00046-0.29226-0.95626-1.00468-0.69000.h5\n",
      "Epoch 47/50\n",
      "37/37 [==============================] - 58s 2s/step - loss: 0.2611 - categorical_accuracy: 0.9647 - val_loss: 1.1675 - val_categorical_accuracy: 0.6300\n",
      "\n",
      "Epoch 00047: saving model to conv3d_model_2020-03-2913_12_58.605566/conv_3d-00047-0.23441-0.96833-1.16753-0.63000.h5\n",
      "Epoch 48/50\n",
      "37/37 [==============================] - 52s 1s/step - loss: 0.2102 - categorical_accuracy: 0.9706 - val_loss: 1.0162 - val_categorical_accuracy: 0.7000\n",
      "\n",
      "Epoch 00048: saving model to conv3d_model_2020-03-2913_12_58.605566/conv_3d-00048-0.18908-0.97285-1.01623-0.70000.h5\n",
      "Epoch 49/50\n",
      "37/37 [==============================] - 55s 1s/step - loss: 0.2548 - categorical_accuracy: 0.9589 - val_loss: 0.9791 - val_categorical_accuracy: 0.6900\n",
      "\n",
      "Epoch 00049: saving model to conv3d_model_2020-03-2913_12_58.605566/conv_3d-00049-0.22767-0.96229-0.97909-0.69000.h5\n",
      "Epoch 50/50\n",
      "37/37 [==============================] - 50s 1s/step - loss: 0.2223 - categorical_accuracy: 0.9728 - val_loss: 0.8839 - val_categorical_accuracy: 0.6700\n",
      "\n",
      "Epoch 00050: saving model to conv3d_model_2020-03-2913_12_58.605566/conv_3d-00050-0.19714-0.97587-0.88392-0.67000.h5\n"
     ]
    }
   ],
   "source": [
    "modelhistory = conv3d_model.fit_generator(train_generator, steps_per_epoch=steps_per_epoch, epochs=num_epochs, verbose=1, \n",
    "                                          callbacks=callbacks_list, validation_data=val_generator, \n",
    "                                          validation_steps=validation_steps, class_weight=None, workers=1, initial_epoch=0)"
   ]
  },
  {
   "cell_type": "code",
   "execution_count": 56,
   "metadata": {
    "colab": {},
    "colab_type": "code",
    "id": "TmBY1RwaqA0_"
   },
   "outputs": [],
   "source": [
    "acc = modelhistory.history['categorical_accuracy']\n",
    "val_acc = modelhistory.history['val_categorical_accuracy']\n",
    "loss = modelhistory.history['loss']\n",
    "val_loss = modelhistory.history['val_loss']"
   ]
  },
  {
   "cell_type": "code",
   "execution_count": 57,
   "metadata": {
    "colab": {},
    "colab_type": "code",
    "id": "5K0Loo4wqn6k"
   },
   "outputs": [
    {
     "data": {
      "image/png": "[encoded data removed]",
      "text/plain": [
       "<Figure size 576x576 with 2 Axes>"
      ]
     },
     "metadata": {},
     "output_type": "display_data"
    }
   ],
   "source": [
    "plt.figure(figsize=(8, 8))\n",
    "plt.subplot(2, 1, 1)\n",
    "plt.plot(acc, label='Training Accuracy')\n",
    "plt.plot(val_acc, label='Validation Accuracy')\n",
    "plt.plot([num_epochs-1,num_epochs-1],\n",
    "          plt.ylim(), label='Start Fine Tuning')\n",
    "plt.legend(loc='lower right')\n",
    "plt.title('Training and Validation Accuracy')\n",
    "\n",
    "plt.subplot(2, 1, 2)\n",
    "plt.plot(loss, label='Training Loss')\n",
    "plt.plot(val_loss, label='Validation Loss')\n",
    "plt.plot([num_epochs-1,num_epochs-1],\n",
    "         plt.ylim(), label='Start Fine Tuning')\n",
    "plt.legend(loc='upper right')\n",
    "plt.title('Training and Validation Loss')\n",
    "plt.xlabel('epoch')\n",
    "plt.show()"
   ]
  },
  {
   "cell_type": "markdown",
   "metadata": {},
   "source": [
    "\n",
    "## Model 2\n",
    "Here we are Buidling a second model with Conv2D and RNN and comparing the results"
   ]
  },
  {
   "cell_type": "code",
   "execution_count": 86,
   "metadata": {},
   "outputs": [],
   "source": [
    "import matplotlib.pyplot as plt\n",
    "from matplotlib.pyplot import imread\n",
    "from skimage.transform import resize\n",
    "%matplotlib inline\n",
    "\n",
    "def generator_1(source_path, folder_list, batch_size):\n",
    "    print( 'Source path = ', source_path, '; batch size =', batch_size)\n",
    "    img_idx = {1,3,5,7,9,11,13,15,17,19,21,23,25,27,29} #create a list of image numbers you want to use for a particular video\n",
    "    while True:\n",
    "        t = np.random.permutation(folder_list)\n",
    "        num_batches = len(folder_list)//batch_size  # calculate the number of batches\n",
    "        for batch in range(num_batches): # we iterate over the number of batches\n",
    "            batch_data = np.zeros((batch_size,len(img_idx),80,100,3)) # x is the number of images you use for each video, (y,z) is the final size of the input images and 3 is the number of channels RGB\n",
    "            batch_labels = np.zeros((batch_size,5)) # batch_labels is the one hot representation of the output\n",
    "            for folder in range(batch_size): # iterate over the batch_size\n",
    "                imgs = os.listdir(source_path+'/'+ t[folder + (batch*batch_size)].split(';')[0]) # read all the images in the folder\n",
    "                for idx,item in enumerate(img_idx): #  Iterate over the frames/images of a folder to read them in\n",
    "                    image = imread(source_path+'/'+ t[folder + (batch*batch_size)].strip().split(';')[0]+'/'+imgs[item]).astype(np.float32)\n",
    "                    \n",
    "                    #crop the images and resize them. Note that the images are of 2 different shape \n",
    "                    #and the conv3D will throw error if the inputs in a batch have different shapes\n",
    "                    \n",
    "                    #if image.shape[0] > 160 and image.shape[1] > 160:\n",
    "                    #  img_resized = resize(image, (80, 100))\n",
    "                    #else:\n",
    "                    #  img_resized = image \n",
    "                    \n",
    "                    img_resized = resize(image, (80, 100))\n",
    "                 \n",
    "                    batch_data[folder,idx,:,:,0] = img_resized[:,:,0]/255 #normalise and feed in the image\n",
    "                    batch_data[folder,idx,:,:,1] = img_resized[:,:,1]/255 #normalise and feed in the image\n",
    "                    batch_data[folder,idx,:,:,2] = img_resized[:,:,2]/255 #normalise and feed in the image\n",
    "\n",
    "                batch_labels[folder, int(t[folder + (batch*batch_size)].strip().split(';')[2])] = 1\n",
    "            yield batch_data, batch_labels #you yield the batch_data and the batch_labels, remember what does yield do\n",
    "\n",
    "        \n",
    "        # write the code for the remaining data points which are left after full batches\n",
    "        rem_train_size = len(folder_list)%batch_size \n",
    "        batch_data = np.zeros((rem_train_size,len(img_idx),80,100,3)) # x is the number of images you use for each video, (y,z) is the final size of the input images and 3 is the number of channels RGB\n",
    "        batch_labels = np.zeros((rem_train_size,5)) # batch_labels is the one hot representation of the output\n",
    "        for folder in range(rem_train_size): # iterate over the remaining training folders\n",
    "            imgs = os.listdir(source_path+'/'+ t[folder + (num_batches*batch_size)].split(';')[0]) # read all the images in the folder\n",
    "            for idx,item in enumerate(img_idx): #  Iterate iver the frames/images of a folder to read them in\n",
    "                image = imread(source_path+'/'+ t[folder + (num_batches*batch_size)].strip().split(';')[0]+'/'+imgs[item]).astype(np.float32)\n",
    "                    \n",
    "                #crop the images and resize them. Note that the images are of 2 different shape \n",
    "                #and the conv3D will throw error if the inputs in a batch have different shapes\n",
    "                \n",
    "                #if image.shape[0] > 160 and image.shape[1] > 160:\n",
    "                #  img_resized = resize(image, (80, 100))\n",
    "                #else:\n",
    "                #  img_resized = image\n",
    "                \n",
    "                    \n",
    "                batch_data[folder,idx,:,:,0] = img_resized[:,:,0]/255 #normalise and feed in the image\n",
    "                batch_data[folder,idx,:,:,1] = img_resized[:,:,1]/255 #normalise and feed in the image\n",
    "                batch_data[folder,idx,:,:,2] = img_resized[:,:,2]/255 #normalise and feed in the image\n",
    "                    \n",
    "            batch_labels[folder, int(t[folder + (batch*batch_size)].strip().split(';')[2])] = 1\n",
    "        yield batch_data, batch_labels #you yield the batch_data and the batch_labels, remember what does yield do"
   ]
  },
  {
   "cell_type": "code",
   "execution_count": 87,
   "metadata": {},
   "outputs": [
    {
     "name": "stdout",
     "output_type": "stream",
     "text": [
      "_________________________________________________________________\n",
      "Layer (type)                 Output Shape              Param #   \n",
      "=================================================================\n",
      "time_distributed_43 (TimeDis (None, 15, 40, 50, 32)    4736      \n",
      "_________________________________________________________________\n",
      "time_distributed_44 (TimeDis (None, 15, 20, 25, 32)    0         \n",
      "_________________________________________________________________\n",
      "batch_normalization_25 (Batc (None, 15, 20, 25, 32)    128       \n",
      "_________________________________________________________________\n",
      "time_distributed_45 (TimeDis (None, 15, 20, 25, 64)    18496     \n",
      "_________________________________________________________________\n",
      "time_distributed_46 (TimeDis (None, 15, 10, 12, 64)    0         \n",
      "_________________________________________________________________\n",
      "batch_normalization_26 (Batc (None, 15, 10, 12, 64)    256       \n",
      "_________________________________________________________________\n",
      "time_distributed_47 (TimeDis (None, 15, 10, 12, 128)   73856     \n",
      "_________________________________________________________________\n",
      "time_distributed_48 (TimeDis (None, 15, 5, 6, 128)     0         \n",
      "_________________________________________________________________\n",
      "batch_normalization_27 (Batc (None, 15, 5, 6, 128)     512       \n",
      "_________________________________________________________________\n",
      "time_distributed_49 (TimeDis (None, 15, 3840)          0         \n",
      "_________________________________________________________________\n",
      "dropout_13 (Dropout)         (None, 15, 3840)          0         \n",
      "_________________________________________________________________\n",
      "bidirectional_3 (Bidirection (None, 512)               8390656   \n",
      "_________________________________________________________________\n",
      "dense_13 (Dense)             (None, 5)                 2565      \n",
      "=================================================================\n",
      "Total params: 8,491,205\n",
      "Trainable params: 8,490,757\n",
      "Non-trainable params: 448\n",
      "_________________________________________________________________\n"
     ]
    }
   ],
   "source": [
    "from keras.models import Sequential, Model\n",
    "from keras.layers import Dense, GRU, Flatten, TimeDistributed, Flatten, BatchNormalization, Activation, Dropout\n",
    "from keras.layers.convolutional import Conv2D, MaxPooling2D\n",
    "from keras.callbacks import ModelCheckpoint, ReduceLROnPlateau\n",
    "from keras import optimizers\n",
    "from keras.optimizers import Adam\n",
    "from keras.layers.recurrent import LSTM, GRU\n",
    "from keras.layers import Bidirectional\n",
    "\n",
    "input_shape = (15,80,100,3)\n",
    "num_classes = 5\n",
    "\n",
    "lstm_model = Sequential()\n",
    "\n",
    "lstm_model.add(TimeDistributed(Conv2D(32, (7, 7), strides=(2, 2), activation='relu', padding='same'), input_shape=input_shape))\n",
    "#lstm_model.add(TimeDistributed(Conv2D(32, (3,3), kernel_initializer=\"he_normal\", activation='relu')))\n",
    "lstm_model.add(TimeDistributed(MaxPooling2D((2, 2), strides=(2, 2))))\n",
    "lstm_model.add(BatchNormalization())\n",
    " \n",
    "lstm_model.add(TimeDistributed(Conv2D(64, (3,3), padding='same', activation='relu')))\n",
    "#lstm_model.add(TimeDistributed(Conv2D(64, (3,3), padding='same', activation='relu')))\n",
    "lstm_model.add(TimeDistributed(MaxPooling2D((2, 2), strides=(2, 2))))\n",
    "lstm_model.add(BatchNormalization())\n",
    "\n",
    "lstm_model.add(TimeDistributed(Conv2D(128, (3,3), padding='same', activation='relu')))\n",
    "#lstm_model.add(TimeDistributed(Conv2D(128, (3,3), padding='same', activation='relu')))\n",
    "lstm_model.add(TimeDistributed(MaxPooling2D((2, 2), strides=(2, 2))))\n",
    "lstm_model.add(BatchNormalization())\n",
    "\n",
    "lstm_model.add(TimeDistributed(Flatten())) \n",
    "lstm_model.add(Dropout(0.5))\n",
    "\n",
    "lstm_model.add(Bidirectional(LSTM(256, return_sequences=False)))\n",
    "# Time distributed softmax layer\n",
    "lstm_model.add((Dense(num_classes, activation='softmax')))\n",
    "\n",
    "# model summary\n",
    "lstm_model.build(input_shape)\n",
    "lstm_model.summary()"
   ]
  },
  {
   "cell_type": "code",
   "execution_count": 88,
   "metadata": {},
   "outputs": [
    {
     "name": "stdout",
     "output_type": "stream",
     "text": [
      "_________________________________________________________________\n",
      "Layer (type)                 Output Shape              Param #   \n",
      "=================================================================\n",
      "time_distributed_43 (TimeDis (None, 15, 40, 50, 32)    4736      \n",
      "_________________________________________________________________\n",
      "time_distributed_44 (TimeDis (None, 15, 20, 25, 32)    0         \n",
      "_________________________________________________________________\n",
      "batch_normalization_25 (Batc (None, 15, 20, 25, 32)    128       \n",
      "_________________________________________________________________\n",
      "time_distributed_45 (TimeDis (None, 15, 20, 25, 64)    18496     \n",
      "_________________________________________________________________\n",
      "time_distributed_46 (TimeDis (None, 15, 10, 12, 64)    0         \n",
      "_________________________________________________________________\n",
      "batch_normalization_26 (Batc (None, 15, 10, 12, 64)    256       \n",
      "_________________________________________________________________\n",
      "time_distributed_47 (TimeDis (None, 15, 10, 12, 128)   73856     \n",
      "_________________________________________________________________\n",
      "time_distributed_48 (TimeDis (None, 15, 5, 6, 128)     0         \n",
      "_________________________________________________________________\n",
      "batch_normalization_27 (Batc (None, 15, 5, 6, 128)     512       \n",
      "_________________________________________________________________\n",
      "time_distributed_49 (TimeDis (None, 15, 3840)          0         \n",
      "_________________________________________________________________\n",
      "dropout_13 (Dropout)         (None, 15, 3840)          0         \n",
      "_________________________________________________________________\n",
      "bidirectional_3 (Bidirection (None, 512)               8390656   \n",
      "_________________________________________________________________\n",
      "dense_13 (Dense)             (None, 5)                 2565      \n",
      "=================================================================\n",
      "Total params: 8,491,205\n",
      "Trainable params: 8,490,757\n",
      "Non-trainable params: 448\n",
      "_________________________________________________________________\n",
      "None\n"
     ]
    }
   ],
   "source": [
    "optimiser = Adam(lr=0.0001)\n",
    "lstm_model.compile(optimizer=optimiser, loss='categorical_crossentropy', metrics=['categorical_accuracy'])\n",
    "print (lstm_model.summary())"
   ]
  },
  {
   "cell_type": "code",
   "execution_count": 89,
   "metadata": {},
   "outputs": [],
   "source": [
    "train_generator = generator_1(train_path, train_doc, batch_size)\n",
    "val_generator = generator_1(val_path, val_doc, batch_size)"
   ]
  },
  {
   "cell_type": "code",
   "execution_count": 90,
   "metadata": {},
   "outputs": [],
   "source": [
    "model_name = 'lstm_model' + '_' + str(curr_dt_time).replace(' ','').replace(':','_') + '/'\n",
    "    \n",
    "if not os.path.exists(model_name):\n",
    "    os.mkdir(model_name)\n",
    "        \n",
    "filepath = model_name + 'lstm_model-{epoch:05d}-{loss:.5f}-{categorical_accuracy:.5f}-{val_loss:.5f}-{val_categorical_accuracy:.5f}.h5'\n",
    "\n",
    "checkpoint = ModelCheckpoint(filepath, monitor='val_loss', verbose=1, save_best_only=False, save_weights_only=False, mode='auto', period=1)\n",
    "\n",
    "LR = ReduceLROnPlateau(monitor='val_loss', factor=0.2, patience=5, min_lr=0.001)\n",
    "callbacks_list = [checkpoint, LR]"
   ]
  },
  {
   "cell_type": "code",
   "execution_count": 91,
   "metadata": {},
   "outputs": [],
   "source": [
    "if (num_train_sequences%batch_size) == 0:\n",
    "    steps_per_epoch = int(num_train_sequences/batch_size)\n",
    "else:\n",
    "    steps_per_epoch = (num_train_sequences//batch_size) + 1\n",
    "\n",
    "if (num_val_sequences%batch_size) == 0:\n",
    "    validation_steps = int(num_val_sequences/batch_size)\n",
    "else:\n",
    "    validation_steps = (num_val_sequences//batch_size) + 1"
   ]
  },
  {
   "cell_type": "code",
   "execution_count": 92,
   "metadata": {},
   "outputs": [
    {
     "name": "stdout",
     "output_type": "stream",
     "text": [
      "Source path =  Project_data/val ; batch size = 18\n",
      "Source path =  Project_data/train ; batch size = 18\n",
      "Epoch 1/50\n"
     ]
    },
    {
     "name": "stderr",
     "output_type": "stream",
     "text": [
      "/mnt/disks/user/anaconda3/lib/python3.6/site-packages/skimage/transform/_warps.py:105: UserWarning: The default mode, 'constant', will be changed to 'reflect' in skimage 0.15.\n",
      "  warn(\"The default mode, 'constant', will be changed to 'reflect' in \"\n",
      "/mnt/disks/user/anaconda3/lib/python3.6/site-packages/skimage/transform/_warps.py:110: UserWarning: Anti-aliasing will be enabled by default in skimage 0.15 to avoid aliasing artifacts when down-sampling images.\n",
      "  warn(\"Anti-aliasing will be enabled by default in skimage 0.15 to \"\n"
     ]
    },
    {
     "name": "stdout",
     "output_type": "stream",
     "text": [
      "37/37 [==============================] - 67s 2s/step - loss: 1.2977 - categorical_accuracy: 0.4346 - val_loss: 1.6408 - val_categorical_accuracy: 0.4200\n",
      "\n",
      "Epoch 00001: saving model to lstm_model_2020-03-2913_12_58.605566/lstm_model-00001-1.29526-0.43590-1.64076-0.42000.h5\n",
      "Epoch 2/50\n",
      "37/37 [==============================] - 53s 1s/step - loss: 0.8196 - categorical_accuracy: 0.7142 - val_loss: 1.6646 - val_categorical_accuracy: 0.4000\n",
      "\n",
      "Epoch 00002: saving model to lstm_model_2020-03-2913_12_58.605566/lstm_model-00002-0.80865-0.71644-1.66460-0.40000.h5\n",
      "Epoch 3/50\n",
      "37/37 [==============================] - 57s 2s/step - loss: 0.5754 - categorical_accuracy: 0.8340 - val_loss: 1.1940 - val_categorical_accuracy: 0.5700\n",
      "\n",
      "Epoch 00003: saving model to lstm_model_2020-03-2913_12_58.605566/lstm_model-00003-0.56632-0.83710-1.19401-0.57000.h5\n",
      "Epoch 4/50\n",
      "37/37 [==============================] - 56s 2s/step - loss: 0.4074 - categorical_accuracy: 0.9058 - val_loss: 1.1844 - val_categorical_accuracy: 0.5900\n",
      "\n",
      "Epoch 00004: saving model to lstm_model_2020-03-2913_12_58.605566/lstm_model-00004-0.39614-0.90950-1.18439-0.59000.h5\n",
      "Epoch 5/50\n",
      "37/37 [==============================] - 54s 1s/step - loss: 0.3270 - categorical_accuracy: 0.9481 - val_loss: 0.9792 - val_categorical_accuracy: 0.6400\n",
      "\n",
      "Epoch 00005: saving model to lstm_model_2020-03-2913_12_58.605566/lstm_model-00005-0.31397-0.95173-0.97917-0.64000.h5\n",
      "Epoch 6/50\n",
      "37/37 [==============================] - 59s 2s/step - loss: 0.3207 - categorical_accuracy: 0.9484 - val_loss: 1.3795 - val_categorical_accuracy: 0.5000\n",
      "\n",
      "Epoch 00006: saving model to lstm_model_2020-03-2913_12_58.605566/lstm_model-00006-0.30411-0.95173-1.37949-0.50000.h5\n",
      "Epoch 7/50\n",
      "37/37 [==============================] - 54s 1s/step - loss: 0.2955 - categorical_accuracy: 0.9598 - val_loss: 1.0975 - val_categorical_accuracy: 0.5900\n",
      "\n",
      "Epoch 00007: saving model to lstm_model_2020-03-2913_12_58.605566/lstm_model-00007-0.27861-0.96229-1.09753-0.59000.h5\n",
      "Epoch 8/50\n",
      "37/37 [==============================] - 58s 2s/step - loss: 0.2608 - categorical_accuracy: 0.9692 - val_loss: 1.2670 - val_categorical_accuracy: 0.4800\n",
      "\n",
      "Epoch 00008: saving model to lstm_model_2020-03-2913_12_58.605566/lstm_model-00008-0.23890-0.97285-1.26700-0.48000.h5\n",
      "Epoch 9/50\n",
      "37/37 [==============================] - 55s 1s/step - loss: 0.2072 - categorical_accuracy: 0.9713 - val_loss: 1.0472 - val_categorical_accuracy: 0.6400\n",
      "\n",
      "Epoch 00009: saving model to lstm_model_2020-03-2913_12_58.605566/lstm_model-00009-0.19456-0.97436-1.04721-0.64000.h5\n",
      "Epoch 10/50\n",
      "37/37 [==============================] - 55s 1s/step - loss: 0.1741 - categorical_accuracy: 0.9695 - val_loss: 1.1635 - val_categorical_accuracy: 0.5900\n",
      "\n",
      "Epoch 00010: saving model to lstm_model_2020-03-2913_12_58.605566/lstm_model-00010-0.16321-0.97285-1.16353-0.59000.h5\n",
      "Epoch 11/50\n",
      "37/37 [==============================] - 53s 1s/step - loss: 0.1369 - categorical_accuracy: 0.9719 - val_loss: 1.2821 - val_categorical_accuracy: 0.6200\n",
      "\n",
      "Epoch 00011: saving model to lstm_model_2020-03-2913_12_58.605566/lstm_model-00011-0.12727-0.97587-1.28212-0.62000.h5\n",
      "Epoch 12/50\n",
      "37/37 [==============================] - 57s 2s/step - loss: 0.2071 - categorical_accuracy: 0.9725 - val_loss: 1.7817 - val_categorical_accuracy: 0.5200\n",
      "\n",
      "Epoch 00012: saving model to lstm_model_2020-03-2913_12_58.605566/lstm_model-00012-0.18625-0.97587-1.78172-0.52000.h5\n",
      "Epoch 13/50\n",
      "37/37 [==============================] - 61s 2s/step - loss: 0.2298 - categorical_accuracy: 0.9589 - val_loss: 2.3609 - val_categorical_accuracy: 0.3700\n",
      "\n",
      "Epoch 00013: saving model to lstm_model_2020-03-2913_12_58.605566/lstm_model-00013-0.21359-0.96229-2.36091-0.37000.h5\n",
      "Epoch 14/50\n",
      "37/37 [==============================] - 54s 1s/step - loss: 0.1683 - categorical_accuracy: 0.9713 - val_loss: 1.2645 - val_categorical_accuracy: 0.6500\n",
      "\n",
      "Epoch 00014: saving model to lstm_model_2020-03-2913_12_58.605566/lstm_model-00014-0.15833-0.97436-1.26452-0.65000.h5\n",
      "Epoch 15/50\n",
      "37/37 [==============================] - 60s 2s/step - loss: 0.1126 - categorical_accuracy: 0.9770 - val_loss: 1.1791 - val_categorical_accuracy: 0.6600\n",
      "\n",
      "Epoch 00015: saving model to lstm_model_2020-03-2913_12_58.605566/lstm_model-00015-0.10342-0.98039-1.17912-0.66000.h5\n",
      "Epoch 16/50\n",
      "37/37 [==============================] - 52s 1s/step - loss: 0.1468 - categorical_accuracy: 0.9746 - val_loss: 1.5550 - val_categorical_accuracy: 0.6100\n",
      "\n",
      "Epoch 00016: saving model to lstm_model_2020-03-2913_12_58.605566/lstm_model-00016-0.13519-0.97738-1.55501-0.61000.h5\n",
      "Epoch 17/50\n",
      "37/37 [==============================] - 58s 2s/step - loss: 0.1220 - categorical_accuracy: 0.9698 - val_loss: 1.0425 - val_categorical_accuracy: 0.6000\n",
      "\n",
      "Epoch 00017: saving model to lstm_model_2020-03-2913_12_58.605566/lstm_model-00017-0.11184-0.97285-1.04253-0.60000.h5\n",
      "Epoch 18/50\n",
      "37/37 [==============================] - 57s 2s/step - loss: 0.2071 - categorical_accuracy: 0.9746 - val_loss: 1.6129 - val_categorical_accuracy: 0.4900\n",
      "\n",
      "Epoch 00018: saving model to lstm_model_2020-03-2913_12_58.605566/lstm_model-00018-0.18468-0.97738-1.61295-0.49000.h5\n",
      "Epoch 19/50\n",
      "37/37 [==============================] - 60s 2s/step - loss: 0.1375 - categorical_accuracy: 0.9748 - val_loss: 1.4451 - val_categorical_accuracy: 0.6500\n",
      "\n",
      "Epoch 00019: saving model to lstm_model_2020-03-2913_12_58.605566/lstm_model-00019-0.12784-0.97738-1.44513-0.65000.h5\n",
      "Epoch 20/50\n",
      "37/37 [==============================] - 55s 1s/step - loss: 0.0899 - categorical_accuracy: 0.9773 - val_loss: 2.3814 - val_categorical_accuracy: 0.4400\n",
      "\n",
      "Epoch 00020: saving model to lstm_model_2020-03-2913_12_58.605566/lstm_model-00020-0.08301-0.98039-2.38144-0.44000.h5\n",
      "Epoch 21/50\n",
      "37/37 [==============================] - 56s 2s/step - loss: 0.1718 - categorical_accuracy: 0.9773 - val_loss: 1.7927 - val_categorical_accuracy: 0.5000\n",
      "\n",
      "Epoch 00021: saving model to lstm_model_2020-03-2913_12_58.605566/lstm_model-00021-0.15196-0.98039-1.79273-0.50000.h5\n",
      "Epoch 22/50\n",
      "37/37 [==============================] - 58s 2s/step - loss: 0.1214 - categorical_accuracy: 0.9635 - val_loss: 1.6303 - val_categorical_accuracy: 0.5400\n",
      "\n",
      "Epoch 00022: saving model to lstm_model_2020-03-2913_12_58.605566/lstm_model-00022-0.11400-0.96682-1.63034-0.54000.h5\n",
      "Epoch 23/50\n",
      "37/37 [==============================] - 58s 2s/step - loss: 0.1526 - categorical_accuracy: 0.9707 - val_loss: 1.5094 - val_categorical_accuracy: 0.6200\n",
      "\n",
      "Epoch 00023: saving model to lstm_model_2020-03-2913_12_58.605566/lstm_model-00023-0.13687-0.97436-1.50943-0.62000.h5\n",
      "Epoch 24/50\n",
      "37/37 [==============================] - 54s 1s/step - loss: 0.0925 - categorical_accuracy: 0.9758 - val_loss: 1.3195 - val_categorical_accuracy: 0.6200\n",
      "\n",
      "Epoch 00024: saving model to lstm_model_2020-03-2913_12_58.605566/lstm_model-00024-0.08566-0.97888-1.31954-0.62000.h5\n",
      "Epoch 25/50\n",
      "37/37 [==============================] - 56s 2s/step - loss: 0.1577 - categorical_accuracy: 0.9791 - val_loss: 1.4470 - val_categorical_accuracy: 0.6200\n",
      "\n",
      "Epoch 00025: saving model to lstm_model_2020-03-2913_12_58.605566/lstm_model-00025-0.13928-0.98190-1.44695-0.62000.h5\n",
      "Epoch 26/50\n",
      "37/37 [==============================] - 58s 2s/step - loss: 0.1392 - categorical_accuracy: 0.9743 - val_loss: 1.5791 - val_categorical_accuracy: 0.5800\n",
      "\n",
      "Epoch 00026: saving model to lstm_model_2020-03-2913_12_58.605566/lstm_model-00026-0.12630-0.97738-1.57914-0.58000.h5\n",
      "Epoch 27/50\n",
      "37/37 [==============================] - 58s 2s/step - loss: 0.1199 - categorical_accuracy: 0.9758 - val_loss: 2.7104 - val_categorical_accuracy: 0.4400\n",
      "\n",
      "Epoch 00027: saving model to lstm_model_2020-03-2913_12_58.605566/lstm_model-00027-0.11121-0.97888-2.71040-0.44000.h5\n",
      "Epoch 28/50\n",
      "37/37 [==============================] - 54s 1s/step - loss: 0.1222 - categorical_accuracy: 0.9737 - val_loss: 1.5559 - val_categorical_accuracy: 0.5700\n",
      "\n",
      "Epoch 00028: saving model to lstm_model_2020-03-2913_12_58.605566/lstm_model-00028-0.10884-0.97738-1.55587-0.57000.h5\n",
      "Epoch 29/50\n",
      "37/37 [==============================] - 55s 1s/step - loss: 0.1885 - categorical_accuracy: 0.9674 - val_loss: 1.5576 - val_categorical_accuracy: 0.5800\n",
      "\n",
      "Epoch 00029: saving model to lstm_model_2020-03-2913_12_58.605566/lstm_model-00029-0.16727-0.97134-1.55756-0.58000.h5\n",
      "Epoch 30/50\n"
     ]
    },
    {
     "name": "stdout",
     "output_type": "stream",
     "text": [
      "37/37 [==============================] - 54s 1s/step - loss: 0.1227 - categorical_accuracy: 0.9758 - val_loss: 1.1260 - val_categorical_accuracy: 0.6100\n",
      "\n",
      "Epoch 00030: saving model to lstm_model_2020-03-2913_12_58.605566/lstm_model-00030-0.11067-0.97888-1.12604-0.61000.h5\n",
      "Epoch 31/50\n",
      "37/37 [==============================] - 59s 2s/step - loss: 0.1242 - categorical_accuracy: 0.9725 - val_loss: 1.8483 - val_categorical_accuracy: 0.6300\n",
      "\n",
      "Epoch 00031: saving model to lstm_model_2020-03-2913_12_58.605566/lstm_model-00031-0.11481-0.97587-1.84833-0.63000.h5\n",
      "Epoch 32/50\n",
      "37/37 [==============================] - 58s 2s/step - loss: 0.1534 - categorical_accuracy: 0.9689 - val_loss: 1.2445 - val_categorical_accuracy: 0.6500\n",
      "\n",
      "Epoch 00032: saving model to lstm_model_2020-03-2913_12_58.605566/lstm_model-00032-0.13589-0.97285-1.24446-0.65000.h5\n",
      "Epoch 33/50\n",
      "37/37 [==============================] - 55s 1s/step - loss: 0.1404 - categorical_accuracy: 0.9673 - val_loss: 1.1710 - val_categorical_accuracy: 0.6300\n",
      "\n",
      "Epoch 00033: saving model to lstm_model_2020-03-2913_12_58.605566/lstm_model-00033-0.13481-0.96983-1.17103-0.63000.h5\n",
      "Epoch 34/50\n",
      "37/37 [==============================] - 53s 1s/step - loss: 0.1082 - categorical_accuracy: 0.9808 - val_loss: 1.2214 - val_categorical_accuracy: 0.6500\n",
      "\n",
      "Epoch 00034: saving model to lstm_model_2020-03-2913_12_58.605566/lstm_model-00034-0.09749-0.98341-1.22143-0.65000.h5\n",
      "Epoch 35/50\n",
      "37/37 [==============================] - 58s 2s/step - loss: 0.1610 - categorical_accuracy: 0.9770 - val_loss: 1.3676 - val_categorical_accuracy: 0.6800\n",
      "\n",
      "Epoch 00035: saving model to lstm_model_2020-03-2913_12_58.605566/lstm_model-00035-0.14013-0.98039-1.36757-0.68000.h5\n",
      "Epoch 36/50\n",
      "37/37 [==============================] - 60s 2s/step - loss: 0.1258 - categorical_accuracy: 0.9635 - val_loss: 1.5682 - val_categorical_accuracy: 0.5700\n",
      "\n",
      "Epoch 00036: saving model to lstm_model_2020-03-2913_12_58.605566/lstm_model-00036-0.11847-0.96682-1.56816-0.57000.h5\n",
      "Epoch 37/50\n",
      "37/37 [==============================] - 53s 1s/step - loss: 0.1880 - categorical_accuracy: 0.9731 - val_loss: 1.3732 - val_categorical_accuracy: 0.6000\n",
      "\n",
      "Epoch 00037: saving model to lstm_model_2020-03-2913_12_58.605566/lstm_model-00037-0.16377-0.97738-1.37324-0.60000.h5\n",
      "Epoch 38/50\n",
      "37/37 [==============================] - 56s 2s/step - loss: 0.2313 - categorical_accuracy: 0.9574 - val_loss: 2.8780 - val_categorical_accuracy: 0.4200\n",
      "\n",
      "Epoch 00038: saving model to lstm_model_2020-03-2913_12_58.605566/lstm_model-00038-0.21300-0.96078-2.87796-0.42000.h5\n",
      "Epoch 39/50\n",
      "37/37 [==============================] - 59s 2s/step - loss: 0.1896 - categorical_accuracy: 0.9689 - val_loss: 3.1596 - val_categorical_accuracy: 0.4000\n",
      "\n",
      "Epoch 00039: saving model to lstm_model_2020-03-2913_12_58.605566/lstm_model-00039-0.16982-0.97285-3.15964-0.40000.h5\n",
      "Epoch 40/50\n",
      "37/37 [==============================] - 56s 2s/step - loss: 0.1726 - categorical_accuracy: 0.9617 - val_loss: 1.4662 - val_categorical_accuracy: 0.5500\n",
      "\n",
      "Epoch 00040: saving model to lstm_model_2020-03-2913_12_58.605566/lstm_model-00040-0.16299-0.96531-1.46621-0.55000.h5\n",
      "Epoch 41/50\n",
      "37/37 [==============================] - 56s 2s/step - loss: 0.1740 - categorical_accuracy: 0.9719 - val_loss: 1.4860 - val_categorical_accuracy: 0.5500\n",
      "\n",
      "Epoch 00041: saving model to lstm_model_2020-03-2913_12_58.605566/lstm_model-00041-0.15456-0.97587-1.48596-0.55000.h5\n",
      "Epoch 42/50\n",
      "37/37 [==============================] - 58s 2s/step - loss: 0.1252 - categorical_accuracy: 0.9707 - val_loss: 1.5019 - val_categorical_accuracy: 0.6100\n",
      "\n",
      "Epoch 00042: saving model to lstm_model_2020-03-2913_12_58.605566/lstm_model-00042-0.11342-0.97436-1.50190-0.61000.h5\n",
      "Epoch 43/50\n",
      "37/37 [==============================] - 60s 2s/step - loss: 0.1331 - categorical_accuracy: 0.9743 - val_loss: 1.2274 - val_categorical_accuracy: 0.6200\n",
      "\n",
      "Epoch 00043: saving model to lstm_model_2020-03-2913_12_58.605566/lstm_model-00043-0.12030-0.97738-1.22738-0.62000.h5\n",
      "Epoch 44/50\n",
      "37/37 [==============================] - 51s 1s/step - loss: 0.1146 - categorical_accuracy: 0.9725 - val_loss: 1.2574 - val_categorical_accuracy: 0.6500\n",
      "\n",
      "Epoch 00044: saving model to lstm_model_2020-03-2913_12_58.605566/lstm_model-00044-0.10406-0.97587-1.25741-0.65000.h5\n",
      "Epoch 45/50\n",
      "37/37 [==============================] - 55s 1s/step - loss: 0.1503 - categorical_accuracy: 0.9719 - val_loss: 1.9760 - val_categorical_accuracy: 0.4900\n",
      "\n",
      "Epoch 00045: saving model to lstm_model_2020-03-2913_12_58.605566/lstm_model-00045-0.13171-0.97587-1.97602-0.49000.h5\n",
      "Epoch 46/50\n",
      "37/37 [==============================] - 59s 2s/step - loss: 0.1103 - categorical_accuracy: 0.9715 - val_loss: 2.3896 - val_categorical_accuracy: 0.4700\n",
      "\n",
      "Epoch 00046: saving model to lstm_model_2020-03-2913_12_58.605566/lstm_model-00046-0.10340-0.97436-2.38961-0.47000.h5\n",
      "Epoch 47/50\n",
      "37/37 [==============================] - 51s 1s/step - loss: 0.1020 - categorical_accuracy: 0.9773 - val_loss: 1.9000 - val_categorical_accuracy: 0.6400\n",
      "\n",
      "Epoch 00047: saving model to lstm_model_2020-03-2913_12_58.605566/lstm_model-00047-0.09153-0.98039-1.89997-0.64000.h5\n",
      "Epoch 48/50\n",
      "37/37 [==============================] - 54s 1s/step - loss: 0.1007 - categorical_accuracy: 0.9740 - val_loss: 1.6181 - val_categorical_accuracy: 0.5600\n",
      "\n",
      "Epoch 00048: saving model to lstm_model_2020-03-2913_12_58.605566/lstm_model-00048-0.08935-0.97738-1.61807-0.56000.h5\n",
      "Epoch 49/50\n",
      "37/37 [==============================] - 54s 1s/step - loss: 0.0965 - categorical_accuracy: 0.9758 - val_loss: 1.7005 - val_categorical_accuracy: 0.6200\n",
      "\n",
      "Epoch 00049: saving model to lstm_model_2020-03-2913_12_58.605566/lstm_model-00049-0.08663-0.97888-1.70049-0.62000.h5\n",
      "Epoch 50/50\n",
      "37/37 [==============================] - 55s 1s/step - loss: 0.1152 - categorical_accuracy: 0.9733 - val_loss: 1.3164 - val_categorical_accuracy: 0.6100\n",
      "\n",
      "Epoch 00050: saving model to lstm_model_2020-03-2913_12_58.605566/lstm_model-00050-0.10701-0.97587-1.31643-0.61000.h5\n"
     ]
    }
   ],
   "source": [
    "lstm_model.compile(optimizer=optimiser, loss='categorical_crossentropy', metrics=['categorical_accuracy'])\n",
    "modelhistory = lstm_model.fit_generator(train_generator, steps_per_epoch=steps_per_epoch, epochs=num_epochs, verbose=1, \n",
    "                                        callbacks=callbacks_list, validation_data=val_generator, \n",
    "                                        validation_steps=validation_steps, class_weight=None, workers=1, initial_epoch=0)"
   ]
  },
  {
   "cell_type": "code",
   "execution_count": 64,
   "metadata": {},
   "outputs": [],
   "source": [
    "acc = modelhistory.history['categorical_accuracy']\n",
    "val_acc = modelhistory.history['val_categorical_accuracy']\n",
    "loss = modelhistory.history['loss']\n",
    "val_loss = modelhistory.history['val_loss']"
   ]
  },
  {
   "cell_type": "code",
   "execution_count": 65,
   "metadata": {},
   "outputs": [
    {
     "data": {
      "image/png": "[encoded data removed]",
      "text/plain": [
       "<Figure size 576x576 with 2 Axes>"
      ]
     },
     "metadata": {},
     "output_type": "display_data"
    }
   ],
   "source": [
    "plt.figure(figsize=(8, 8))\n",
    "plt.subplot(2, 1, 1)\n",
    "plt.plot(acc, label='Training Accuracy')\n",
    "plt.plot(val_acc, label='Validation Accuracy')\n",
    "plt.plot([num_epochs-1,num_epochs-1],\n",
    "          plt.ylim(), label='Start Fine Tuning')\n",
    "plt.legend(loc='lower right')\n",
    "plt.title('Training and Validation Accuracy')\n",
    "\n",
    "plt.subplot(2, 1, 2)\n",
    "plt.plot(loss, label='Training Loss')\n",
    "plt.plot(val_loss, label='Validation Loss')\n",
    "plt.plot([num_epochs-1,num_epochs-1],\n",
    "         plt.ylim(), label='Start Fine Tuning')\n",
    "plt.legend(loc='upper right')\n",
    "plt.title('Training and Validation Loss')\n",
    "plt.xlabel('epoch')\n",
    "plt.show()"
   ]
  },
  {
   "cell_type": "code",
   "execution_count": null,
   "metadata": {},
   "outputs": [],
   "source": []
  }
 ],
 "metadata": {
  "accelerator": "GPU",
  "colab": {
   "collapsed_sections": [],
   "include_colab_link": true,
   "name": "Gesture_Recognition_Code.ipynb",
   "provenance": [],
   "toc_visible": true
  },
  "kernelspec": {
   "display_name": "Python 3",
   "language": "python",
   "name": "python3"
  },
  "language_info": {
   "codemirror_mode": {
    "name": "ipython",
    "version": 3
   },
   "file_extension": ".py",
   "mimetype": "text/x-python",
   "name": "python",
   "nbconvert_exporter": "python",
   "pygments_lexer": "ipython3",
   "version": "3.6.5"
  }
 },
 "nbformat": 4,
 "nbformat_minor": 1
}
