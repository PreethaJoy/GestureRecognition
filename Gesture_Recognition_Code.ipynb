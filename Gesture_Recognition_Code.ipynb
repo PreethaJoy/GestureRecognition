{
 "cells": [
  {
   "cell_type": "markdown",
   "metadata": {
    "colab_type": "text",
    "id": "view-in-github"
   },
   "source": [
    "<a href=\"https://colab.research.google.com/github/PreethaJoy/GestureRecognition/blob/master/Gesture_Recognition_Code.ipynb\" target=\"_parent\"><img src=\"https://colab.research.google.com/assets/colab-badge.svg\" alt=\"Open In Colab\"/></a>"
   ]
  },
  {
   "cell_type": "markdown",
   "metadata": {
    "colab_type": "text",
    "id": "AAC9CBB4O7kY"
   },
   "source": [
    "# Gesture Recognition\n",
    "In this group project, you are going to build a 3D Conv model that will be able to predict the 5 gestures correctly. Please import the following libraries to get started."
   ]
  },
  {
   "cell_type": "code",
   "execution_count": 15,
   "metadata": {
    "colab": {
     "base_uri": "https://localhost:8080/",
     "height": 391
    },
    "colab_type": "code",
    "id": "OokzOlRIBZpf",
    "outputId": "ea418698-b9b8-4f6b-8de8-dd54e0f21678"
   },
   "outputs": [
    {
     "name": "stdout",
     "output_type": "stream",
     "text": [
      "Collecting tensorflow-gpu==1.14.0\n",
      "  Using cached https://files.pythonhosted.org/packages/76/04/43153bfdfcf6c9a4c38ecdb971ca9a75b9a791bb69a764d652c359aca504/tensorflow_gpu-1.14.0-cp36-cp36m-manylinux1_x86_64.whl\n",
      "Requirement already satisfied: gast>=0.2.0 in /mnt/disks/user/anaconda3/lib/python3.6/site-packages (from tensorflow-gpu==1.14.0) (0.2.0)\n",
      "Requirement already satisfied: grpcio>=1.8.6 in /mnt/disks/user/anaconda3/lib/python3.6/site-packages (from tensorflow-gpu==1.14.0) (1.15.0)\n",
      "Requirement already satisfied: google-pasta>=0.1.6 in /mnt/disks/user/anaconda3/lib/python3.6/site-packages (from tensorflow-gpu==1.14.0) (0.2.0)\n",
      "Requirement already satisfied: wheel>=0.26 in /mnt/disks/user/anaconda3/lib/python3.6/site-packages (from tensorflow-gpu==1.14.0) (0.31.1)\n",
      "Requirement already satisfied: absl-py>=0.7.0 in /mnt/disks/user/anaconda3/lib/python3.6/site-packages (from tensorflow-gpu==1.14.0) (0.9.0)\n",
      "Requirement already satisfied: keras-applications>=1.0.6 in /mnt/disks/user/anaconda3/lib/python3.6/site-packages (from tensorflow-gpu==1.14.0) (1.0.7)\n",
      "Requirement already satisfied: protobuf>=3.6.1 in /mnt/disks/user/anaconda3/lib/python3.6/site-packages (from tensorflow-gpu==1.14.0) (3.6.1)\n",
      "Requirement already satisfied: tensorflow-estimator<1.15.0rc0,>=1.14.0rc0 in /mnt/disks/user/anaconda3/lib/python3.6/site-packages (from tensorflow-gpu==1.14.0) (1.14.0)\n",
      "Requirement already satisfied: termcolor>=1.1.0 in /mnt/disks/user/anaconda3/lib/python3.6/site-packages (from tensorflow-gpu==1.14.0) (1.1.0)\n",
      "Requirement already satisfied: tensorboard<1.15.0,>=1.14.0 in /mnt/disks/user/anaconda3/lib/python3.6/site-packages (from tensorflow-gpu==1.14.0) (1.14.0)\n",
      "Requirement already satisfied: keras-preprocessing>=1.0.5 in /mnt/disks/user/anaconda3/lib/python3.6/site-packages (from tensorflow-gpu==1.14.0) (1.1.0)\n",
      "Requirement already satisfied: astor>=0.6.0 in /mnt/disks/user/anaconda3/lib/python3.6/site-packages (from tensorflow-gpu==1.14.0) (0.7.1)\n",
      "Collecting wrapt>=1.11.1 (from tensorflow-gpu==1.14.0)\n",
      "Requirement already satisfied: numpy<2.0,>=1.14.5 in /mnt/disks/user/anaconda3/lib/python3.6/site-packages (from tensorflow-gpu==1.14.0) (1.14.5)\n",
      "Requirement already satisfied: six>=1.10.0 in /mnt/disks/user/anaconda3/lib/python3.6/site-packages (from tensorflow-gpu==1.14.0) (1.11.0)\n",
      "Requirement already satisfied: h5py in /mnt/disks/user/anaconda3/lib/python3.6/site-packages (from keras-applications>=1.0.6->tensorflow-gpu==1.14.0) (2.9.0)\n",
      "Requirement already satisfied: setuptools in /mnt/disks/user/anaconda3/lib/python3.6/site-packages (from protobuf>=3.6.1->tensorflow-gpu==1.14.0) (46.0.0)\n",
      "Requirement already satisfied: markdown>=2.6.8 in /mnt/disks/user/anaconda3/lib/python3.6/site-packages (from tensorboard<1.15.0,>=1.14.0->tensorflow-gpu==1.14.0) (3.0.1)\n",
      "Requirement already satisfied: werkzeug>=0.11.15 in /mnt/disks/user/anaconda3/lib/python3.6/site-packages (from tensorboard<1.15.0,>=1.14.0->tensorflow-gpu==1.14.0) (0.14.1)\n",
      "\u001b[31mthinc 6.10.3 has requirement wrapt<1.11.0,>=1.10.0, but you'll have wrapt 1.12.1 which is incompatible.\u001b[0m\n",
      "\u001b[31mspacy 2.0.12 has requirement regex==2017.4.5, but you'll have regex 2017.11.9 which is incompatible.\u001b[0m\n",
      "Installing collected packages: wrapt, tensorflow-gpu\n",
      "  Found existing installation: wrapt 1.10.11\n",
      "\u001b[31mCannot uninstall 'wrapt'. It is a distutils installed project and thus we cannot accurately determine which files belong to it which would lead to only a partial uninstall.\u001b[0m\n",
      "\u001b[33mYou are using pip version 19.0.1, however version 20.0.2 is available.\n",
      "You should consider upgrading via the 'pip install --upgrade pip' command.\u001b[0m\n",
      "Requirement already satisfied: scipy==1.2.1 in /mnt/disks/user/anaconda3/lib/python3.6/site-packages (1.2.1)\n",
      "Requirement already satisfied: numpy>=1.8.2 in /mnt/disks/user/anaconda3/lib/python3.6/site-packages (from scipy==1.2.1) (1.14.5)\n",
      "\u001b[33mYou are using pip version 19.0.1, however version 20.0.2 is available.\n",
      "You should consider upgrading via the 'pip install --upgrade pip' command.\u001b[0m\n",
      "Requirement already satisfied: keras_applications==1.0.7 in /mnt/disks/user/anaconda3/lib/python3.6/site-packages (1.0.7)\n",
      "Requirement already satisfied: h5py in /mnt/disks/user/anaconda3/lib/python3.6/site-packages (from keras_applications==1.0.7) (2.9.0)\n",
      "Requirement already satisfied: numpy>=1.9.1 in /mnt/disks/user/anaconda3/lib/python3.6/site-packages (from keras_applications==1.0.7) (1.14.5)\n",
      "Requirement already satisfied: six in /mnt/disks/user/anaconda3/lib/python3.6/site-packages (from h5py->keras_applications==1.0.7) (1.11.0)\n",
      "\u001b[33mYou are using pip version 19.0.1, however version 20.0.2 is available.\n",
      "You should consider upgrading via the 'pip install --upgrade pip' command.\u001b[0m\n"
     ]
    }
   ],
   "source": [
    "!pip install tensorflow-gpu==1.14.0\n",
    "!pip install scipy==1.2.1\n",
    "!pip install keras_applications==1.0.7"
   ]
  },
  {
   "cell_type": "code",
   "execution_count": 16,
   "metadata": {
    "colab": {},
    "colab_type": "code",
    "id": "b4-GD9JtO7kg"
   },
   "outputs": [],
   "source": [
    "import numpy as np\n",
    "import os\n",
    "#from matplotlib.pyplot import imread\n",
    "from scipy.misc import imread, imresize\n",
    "import datetime\n",
    "import os"
   ]
  },
  {
   "cell_type": "markdown",
   "metadata": {
    "colab_type": "text",
    "id": "-BVtIBP9O7kk"
   },
   "source": [
    "We set the random seed so that the results don't vary drastically."
   ]
  },
  {
   "cell_type": "code",
   "execution_count": 17,
   "metadata": {
    "colab": {},
    "colab_type": "code",
    "id": "lgayu2S8O7kl"
   },
   "outputs": [],
   "source": [
    "np.random.seed(30)\n",
    "import random as rn\n",
    "rn.seed(30)\n",
    "from keras import backend as K\n",
    "import tensorflow as tf\n",
    "tf.set_random_seed(30)"
   ]
  },
  {
   "cell_type": "code",
   "execution_count": 18,
   "metadata": {
    "colab": {
     "base_uri": "https://localhost:8080/",
     "height": 34
    },
    "colab_type": "code",
    "id": "2Qj3e9Ppi7oo",
    "outputId": "da566eb1-b361-4e97-ec82-b6f737270dee"
   },
   "outputs": [],
   "source": [
    "#from google.colab import drive\n",
    "#drive.mount('/content/drive')"
   ]
  },
  {
   "cell_type": "markdown",
   "metadata": {
    "colab_type": "text",
    "id": "WvycjRyMO7ko"
   },
   "source": [
    "In this block, you read the folder names for training and validation. You also set the `batch_size` here. Note that you set the batch size in such a way that you are able to use the GPU in full capacity. You keep increasing the batch size until the machine throws an error."
   ]
  },
  {
   "cell_type": "code",
   "execution_count": 19,
   "metadata": {
    "cellView": "code",
    "colab": {},
    "colab_type": "code",
    "id": "qkUoQk96O7kp"
   },
   "outputs": [],
   "source": [
    "#@title Default title text\n",
    "train_doc = np.random.permutation(open('Project_data/train.csv').readlines())\n",
    "val_doc = np.random.permutation(open('Project_data/val.csv').readlines())\n",
    "\n",
    "batch_size = 8"
   ]
  },
  {
   "cell_type": "code",
   "execution_count": 20,
   "metadata": {},
   "outputs": [
    {
     "name": "stderr",
     "output_type": "stream",
     "text": [
      "/mnt/disks/user/anaconda3/lib/python3.6/site-packages/ipykernel_launcher.py:3: DeprecationWarning: `imread` is deprecated!\n",
      "`imread` is deprecated in SciPy 1.0.0, and will be removed in 1.2.0.\n",
      "Use ``imageio.imread`` instead.\n",
      "  This is separate from the ipykernel package so we can avoid doing imports until\n",
      "/mnt/disks/user/anaconda3/lib/python3.6/site-packages/skimage/transform/_warps.py:105: UserWarning: The default mode, 'constant', will be changed to 'reflect' in skimage 0.15.\n",
      "  warn(\"The default mode, 'constant', will be changed to 'reflect' in \"\n",
      "/mnt/disks/user/anaconda3/lib/python3.6/site-packages/skimage/transform/_warps.py:110: UserWarning: Anti-aliasing will be enabled by default in skimage 0.15 to avoid aliasing artifacts when down-sampling images.\n",
      "  warn(\"Anti-aliasing will be enabled by default in skimage 0.15 to \"\n"
     ]
    },
    {
     "data": {
      "text/plain": [
       "<matplotlib.image.AxesImage at 0x7fcdff542ac8>"
      ]
     },
     "execution_count": 20,
     "metadata": {},
     "output_type": "execute_result"
    },
    {
     "data": {
      "image/png": "[encoded data removed]",
      "text/plain": [
       "<Figure size 432x288 with 1 Axes>"
      ]
     },
     "metadata": {},
     "output_type": "display_data"
    }
   ],
   "source": [
    "from skimage.transform import resize\n",
    "import matplotlib.pyplot as plt\n",
    "image = imread('Project_data/train/WIN_20180925_17_29_33_Pro_Stop_new/WIN_20180925_17_29_33_Pro_00002.png')\n",
    "img_resized = resize(image, (80, 80))\n",
    "plt.imshow(img_resized)"
   ]
  },
  {
   "cell_type": "markdown",
   "metadata": {
    "colab_type": "text",
    "id": "qbZKnozpO7kt"
   },
   "source": [
    "## Generator\n",
    "This is one of the most important part of the code. The overall structure of the generator has been given. In the generator, you are going to preprocess the images as you have images of 2 different dimensions as well as create a batch of video frames. You have to experiment with `img_idx`, `y`,`z` and normalization such that you get high accuracy."
   ]
  },
  {
   "cell_type": "code",
   "execution_count": 21,
   "metadata": {
    "colab": {},
    "colab_type": "code",
    "id": "-vfRMA6yO7ku"
   },
   "outputs": [],
   "source": [
    "import matplotlib.pyplot as plt\n",
    "from matplotlib.pyplot import imread\n",
    "from skimage.transform import resize\n",
    "%matplotlib inline\n",
    "\n",
    "img_rows = 90\n",
    "img_cols = 120\n",
    "img_idx = img_idx = {1,3,5,7,9,11,13,15,17,19,21,23,25,27,29} #create a list of image numbers you want to use for a particular video\n",
    "\n",
    "def generator(source_path, folder_list, batch_size):\n",
    "    print( 'Source path = ', source_path, '; batch size =', batch_size)    \n",
    "    while True:\n",
    "        t = np.random.permutation(folder_list)\n",
    "        num_batches = len(folder_list)//batch_size  # calculate the number of batches\n",
    "        for batch in range(num_batches): # we iterate over the number of batches\n",
    "            batch_data = np.zeros((batch_size,len(img_idx),img_rows,img_cols,3)) # x is the number of images you use for each video, (y,z) is the final size of the input images and 3 is the number of channels RGB\n",
    "            batch_labels = np.zeros((batch_size,5)) # batch_labels is the one hot representation of the output\n",
    "            for folder in range(batch_size): # iterate over the batch_size\n",
    "                imgs = os.listdir(source_path+'/'+ t[folder + (batch*batch_size)].split(';')[0]) # read all the images in the folder\n",
    "                for idx,item in enumerate(img_idx): #  Iterate over the frames/images of a folder to read them in\n",
    "                    image = imread(source_path+'/'+ t[folder + (batch*batch_size)].strip().split(';')[0]+'/'+imgs[item]).astype(np.float32)\n",
    "                    \n",
    "                    #crop the images and resize them. Note that the images are of 2 different shape \n",
    "                    #and the conv3D will throw error if the inputs in a batch have different shapes\n",
    "                    \n",
    "                    if image.shape[0] > 160 and image.shape[1] > 160:\n",
    "                      img_resized = resize(image, (160, 160))\n",
    "                      h, w, _ = img_resized.shape\n",
    "                      img_cropped = img_resized[int(h/2)-60:int(h/2)+60, :, :]\n",
    "                    else:\n",
    "                      img_cropped = image                     \n",
    "                  \n",
    "                    img_resized = resize(img_cropped, (img_rows,img_cols))\n",
    "                 \n",
    "                    batch_data[folder,idx,:,:,0] = img_resized[:,:,0]/255 #normalise and feed in the image\n",
    "                    batch_data[folder,idx,:,:,1] = img_resized[:,:,1]/255 #normalise and feed in the image\n",
    "                    batch_data[folder,idx,:,:,2] = img_resized[:,:,2]/255 #normalise and feed in the image\n",
    "\n",
    "                batch_labels[folder, int(t[folder + (batch*batch_size)].strip().split(';')[2])] = 1\n",
    "            yield batch_data, batch_labels #you yield the batch_data and the batch_labels, remember what does yield do\n",
    "\n",
    "        \n",
    "        # write the code for the remaining data points which are left after full batches\n",
    "        rem_train_size = len(folder_list)%batch_size \n",
    "        batch_data = np.zeros((rem_train_size,len(img_idx),img_rows,img_cols,3)) # x is the number of images you use for each video, (y,z) is the final size of the input images and 3 is the number of channels RGB\n",
    "        batch_labels = np.zeros((rem_train_size,5)) # batch_labels is the one hot representation of the output\n",
    "        for folder in range(rem_train_size): # iterate over the remaining training folders\n",
    "            imgs = os.listdir(source_path+'/'+ t[folder + (num_batches*batch_size)].split(';')[0]) # read all the images in the folder\n",
    "            for idx,item in enumerate(img_idx): #  Iterate iver the frames/images of a folder to read them in\n",
    "                image = imread(source_path+'/'+ t[folder + (num_batches*batch_size)].strip().split(';')[0]+'/'+imgs[item]).astype(np.float32)\n",
    "                    \n",
    "                #crop the images and resize them. Note that the images are of 2 different shape \n",
    "                #and the conv3D will throw error if the inputs in a batch have different shapes\n",
    "                \n",
    "                if image.shape[0] > 160 and image.shape[1] > 160:\n",
    "                  img_resized = resize(image, (160, 160))\n",
    "                  img_cropped = img_resized[int(h/2)-60:int(h/2)+60, :, :]\n",
    "                else:\n",
    "                  img_cropped = image \n",
    "                    \n",
    "                img_resized = resize(img_cropped, (img_rows,img_cols))\n",
    "                    \n",
    "                batch_data[folder,idx,:,:,0] = img_resized[:,:,0]/255 #normalise and feed in the image\n",
    "                batch_data[folder,idx,:,:,1] = img_resized[:,:,1]/255 #normalise and feed in the image\n",
    "                batch_data[folder,idx,:,:,2] = img_resized[:,:,2]/255 #normalise and feed in the image\n",
    "                    \n",
    "            batch_labels[folder, int(t[folder + (batch*batch_size)].strip().split(';')[2])] = 1\n",
    "        yield batch_data, batch_labels #you yield the batch_data and the batch_labels, remember what does yield do\n"
   ]
  },
  {
   "cell_type": "markdown",
   "metadata": {
    "colab_type": "text",
    "id": "AgkemSZgO7kx"
   },
   "source": [
    "Note here that a video is represented above in the generator as (number of images, height, width, number of channels). Take this into consideration while creating the model architecture."
   ]
  },
  {
   "cell_type": "code",
   "execution_count": 22,
   "metadata": {
    "colab": {
     "base_uri": "https://localhost:8080/",
     "height": 68
    },
    "colab_type": "code",
    "id": "1LIAoVUpO7ky",
    "outputId": "84335605-a633-4385-8438-56278ce83881"
   },
   "outputs": [
    {
     "name": "stdout",
     "output_type": "stream",
     "text": [
      "# training sequences = 663\n",
      "# validation sequences = 100\n",
      "# epochs = 50\n"
     ]
    }
   ],
   "source": [
    "curr_dt_time = datetime.datetime.now()\n",
    "train_path = 'Project_data/train'\n",
    "val_path = 'Project_data/val'\n",
    "num_train_sequences = len(train_doc)\n",
    "print('# training sequences =', num_train_sequences)\n",
    "num_val_sequences = len(val_doc)\n",
    "print('# validation sequences =', num_val_sequences)\n",
    "num_epochs = 50 # choose the number of epochs\n",
    "print ('# epochs =', num_epochs)"
   ]
  },
  {
   "cell_type": "markdown",
   "metadata": {
    "colab_type": "text",
    "id": "ExRKfrl5O7k1"
   },
   "source": [
    "## Model\n",
    "Here you make the model using different functionalities that Keras provides. Remember to use `Conv3D` and `MaxPooling3D` and not `Conv2D` and `Maxpooling2D` for a 3D convolution model. You would want to use `TimeDistributed` while building a Conv2D + RNN model. Also remember that the last layer is the softmax. Design the network in such a way that the model is able to give good accuracy on the least number of parameters so that it can fit in the memory of the webcam."
   ]
  },
  {
   "cell_type": "code",
   "execution_count": 23,
   "metadata": {
    "colab": {
     "base_uri": "https://localhost:8080/",
     "height": 391
    },
    "colab_type": "code",
    "id": "z1lHHhdyO7k4",
    "outputId": "399a3478-8de4-4c32-fb52-5abc9016fc2a"
   },
   "outputs": [
    {
     "name": "stdout",
     "output_type": "stream",
     "text": [
      "_________________________________________________________________\n",
      "Layer (type)                 Output Shape              Param #   \n",
      "=================================================================\n",
      "conv3d_4 (Conv3D)            (None, 15, 90, 120, 8)    656       \n",
      "_________________________________________________________________\n",
      "batch_normalization_3 (Batch (None, 15, 90, 120, 8)    32        \n",
      "_________________________________________________________________\n",
      "activation_4 (Activation)    (None, 15, 90, 120, 8)    0         \n",
      "_________________________________________________________________\n",
      "max_pooling3d_4 (MaxPooling3 (None, 7, 45, 60, 8)      0         \n",
      "_________________________________________________________________\n",
      "conv3d_5 (Conv3D)            (None, 7, 45, 60, 32)     6944      \n",
      "_________________________________________________________________\n",
      "batch_normalization_4 (Batch (None, 7, 45, 60, 32)     128       \n",
      "_________________________________________________________________\n",
      "activation_5 (Activation)    (None, 7, 45, 60, 32)     0         \n",
      "_________________________________________________________________\n",
      "max_pooling3d_5 (MaxPooling3 (None, 3, 22, 30, 32)     0         \n",
      "_________________________________________________________________\n",
      "conv3d_6 (Conv3D)            (None, 3, 22, 30, 64)     18496     \n",
      "_________________________________________________________________\n",
      "activation_6 (Activation)    (None, 3, 22, 30, 64)     0         \n",
      "_________________________________________________________________\n",
      "dropout_4 (Dropout)          (None, 3, 22, 30, 64)     0         \n",
      "_________________________________________________________________\n",
      "max_pooling3d_6 (MaxPooling3 (None, 1, 11, 15, 64)     0         \n",
      "_________________________________________________________________\n",
      "flatten_2 (Flatten)          (None, 10560)             0         \n",
      "_________________________________________________________________\n",
      "dense_4 (Dense)              (None, 256)               2703616   \n",
      "_________________________________________________________________\n",
      "dropout_5 (Dropout)          (None, 256)               0         \n",
      "_________________________________________________________________\n",
      "dense_5 (Dense)              (None, 128)               32896     \n",
      "_________________________________________________________________\n",
      "dropout_6 (Dropout)          (None, 128)               0         \n",
      "_________________________________________________________________\n",
      "dense_6 (Dense)              (None, 5)                 645       \n",
      "=================================================================\n",
      "Total params: 2,763,413\n",
      "Trainable params: 2,763,333\n",
      "Non-trainable params: 80\n",
      "_________________________________________________________________\n"
     ]
    }
   ],
   "source": [
    "from keras.models import Sequential, Model\n",
    "from keras.layers import Dense, GRU, Flatten, TimeDistributed, Flatten, BatchNormalization, Activation, Dropout\n",
    "from keras.layers.convolutional import Conv3D, MaxPooling3D\n",
    "from keras.callbacks import ModelCheckpoint, ReduceLROnPlateau\n",
    "from keras import optimizers\n",
    "from keras.optimizers import Adam\n",
    "\n",
    "input_shape = (len(img_idx), img_rows, img_cols, 3)\n",
    "num_classes = 5\n",
    "\n",
    "model = Sequential()\n",
    "\n",
    "model.add(Conv3D(8, kernel_size=(3,3,3), input_shape=input_shape, padding='same'))\n",
    "model.add(BatchNormalization())\n",
    "model.add(Activation('relu'))\n",
    "model.add(MaxPooling3D(pool_size=(2,2,2)))\n",
    "\n",
    "model.add(Conv3D(32, kernel_size=(3,3,3), padding='same'))\n",
    "model.add(BatchNormalization())\n",
    "model.add(Activation('relu'))\n",
    "model.add(MaxPooling3D(pool_size=(2,2,2)))\n",
    "\n",
    "model.add(Conv3D(64, kernel_size=(1,3,3), padding='same'))\n",
    "model.add(Activation('relu'))\n",
    "model.add(Dropout(0.25))\n",
    "model.add(MaxPooling3D(pool_size=(2,2,2)))\n",
    "\n",
    "model.add(Flatten())\n",
    "model.add(Dense(256, activation='relu')) # fully connected\n",
    "model.add(Dropout(0.5))\n",
    "model.add(Dense(128, activation='relu')) # fully connected\n",
    "model.add(Dropout(0.5))\n",
    "model.add(Dense(num_classes, activation='softmax', kernel_initializer='he_uniform'))\n",
    "model.summary()"
   ]
  },
  {
   "cell_type": "markdown",
   "metadata": {
    "colab_type": "text",
    "id": "fV2PWurFO7k7"
   },
   "source": [
    "Now that you have written the model, the next step is to `compile` the model. When you print the `summary` of the model, you'll see the total number of parameters you have to train."
   ]
  },
  {
   "cell_type": "code",
   "execution_count": 24,
   "metadata": {
    "colab": {
     "base_uri": "https://localhost:8080/",
     "height": 408
    },
    "colab_type": "code",
    "id": "aQyETTawO7k8",
    "outputId": "3fab4a47-b827-4b88-a8ff-372c654ab125",
    "scrolled": true
   },
   "outputs": [
    {
     "name": "stdout",
     "output_type": "stream",
     "text": [
      "_________________________________________________________________\n",
      "Layer (type)                 Output Shape              Param #   \n",
      "=================================================================\n",
      "conv3d_4 (Conv3D)            (None, 15, 90, 120, 8)    656       \n",
      "_________________________________________________________________\n",
      "batch_normalization_3 (Batch (None, 15, 90, 120, 8)    32        \n",
      "_________________________________________________________________\n",
      "activation_4 (Activation)    (None, 15, 90, 120, 8)    0         \n",
      "_________________________________________________________________\n",
      "max_pooling3d_4 (MaxPooling3 (None, 7, 45, 60, 8)      0         \n",
      "_________________________________________________________________\n",
      "conv3d_5 (Conv3D)            (None, 7, 45, 60, 32)     6944      \n",
      "_________________________________________________________________\n",
      "batch_normalization_4 (Batch (None, 7, 45, 60, 32)     128       \n",
      "_________________________________________________________________\n",
      "activation_5 (Activation)    (None, 7, 45, 60, 32)     0         \n",
      "_________________________________________________________________\n",
      "max_pooling3d_5 (MaxPooling3 (None, 3, 22, 30, 32)     0         \n",
      "_________________________________________________________________\n",
      "conv3d_6 (Conv3D)            (None, 3, 22, 30, 64)     18496     \n",
      "_________________________________________________________________\n",
      "activation_6 (Activation)    (None, 3, 22, 30, 64)     0         \n",
      "_________________________________________________________________\n",
      "dropout_4 (Dropout)          (None, 3, 22, 30, 64)     0         \n",
      "_________________________________________________________________\n",
      "max_pooling3d_6 (MaxPooling3 (None, 1, 11, 15, 64)     0         \n",
      "_________________________________________________________________\n",
      "flatten_2 (Flatten)          (None, 10560)             0         \n",
      "_________________________________________________________________\n",
      "dense_4 (Dense)              (None, 256)               2703616   \n",
      "_________________________________________________________________\n",
      "dropout_5 (Dropout)          (None, 256)               0         \n",
      "_________________________________________________________________\n",
      "dense_5 (Dense)              (None, 128)               32896     \n",
      "_________________________________________________________________\n",
      "dropout_6 (Dropout)          (None, 128)               0         \n",
      "_________________________________________________________________\n",
      "dense_6 (Dense)              (None, 5)                 645       \n",
      "=================================================================\n",
      "Total params: 2,763,413\n",
      "Trainable params: 2,763,333\n",
      "Non-trainable params: 80\n",
      "_________________________________________________________________\n",
      "None\n"
     ]
    }
   ],
   "source": [
    "optimiser = Adam(lr=0.0001)\n",
    "model.compile(optimizer=optimiser, loss='categorical_crossentropy', metrics=['categorical_accuracy'])\n",
    "print (model.summary())"
   ]
  },
  {
   "cell_type": "markdown",
   "metadata": {
    "colab_type": "text",
    "id": "kuJUqwH8O7k_"
   },
   "source": [
    "Let us create the `train_generator` and the `val_generator` which will be used in `.fit_generator`."
   ]
  },
  {
   "cell_type": "code",
   "execution_count": 25,
   "metadata": {
    "colab": {},
    "colab_type": "code",
    "id": "wRmRNPkWO7lA"
   },
   "outputs": [],
   "source": [
    "train_generator = generator(train_path, train_doc, batch_size)\n",
    "val_generator = generator(val_path, val_doc, batch_size)"
   ]
  },
  {
   "cell_type": "code",
   "execution_count": 26,
   "metadata": {
    "colab": {},
    "colab_type": "code",
    "id": "aPGrtcWhO7lD"
   },
   "outputs": [],
   "source": [
    "model_name = 'model_init' + '_' + str(curr_dt_time).replace(' ','').replace(':','_') + '/'\n",
    "    \n",
    "if not os.path.exists(model_name):\n",
    "    os.mkdir(model_name)\n",
    "        \n",
    "filepath = model_name + 'model-{epoch:05d}-{loss:.5f}-{categorical_accuracy:.5f}-{val_loss:.5f}-{val_categorical_accuracy:.5f}.h5'\n",
    "\n",
    "checkpoint = ModelCheckpoint(filepath, monitor='val_loss', verbose=1, save_best_only=False, save_weights_only=False, mode='auto', period=1)\n",
    "\n",
    "LR = ReduceLROnPlateau(monitor='val_loss', factor=0.2, patience=5, min_lr=0.001)\n",
    "callbacks_list = [checkpoint, LR]"
   ]
  },
  {
   "cell_type": "markdown",
   "metadata": {
    "colab_type": "text",
    "id": "LacqCMP_O7lG"
   },
   "source": [
    "The `steps_per_epoch` and `validation_steps` are used by `fit_generator` to decide the number of next() calls it need to make."
   ]
  },
  {
   "cell_type": "code",
   "execution_count": 27,
   "metadata": {
    "colab": {},
    "colab_type": "code",
    "id": "FGCgRAw8O7lG"
   },
   "outputs": [],
   "source": [
    "if (num_train_sequences%batch_size) == 0:\n",
    "    steps_per_epoch = int(num_train_sequences/batch_size)\n",
    "else:\n",
    "    steps_per_epoch = (num_train_sequences//batch_size) + 1\n",
    "\n",
    "if (num_val_sequences%batch_size) == 0:\n",
    "    validation_steps = int(num_val_sequences/batch_size)\n",
    "else:\n",
    "    validation_steps = (num_val_sequences//batch_size) + 1"
   ]
  },
  {
   "cell_type": "markdown",
   "metadata": {
    "colab_type": "text",
    "id": "ZjsfFFvEO7lJ"
   },
   "source": [
    "Let us now fit the model. This will start training the model and with the help of the checkpoints, you'll be able to save the model at the end of each epoch."
   ]
  },
  {
   "cell_type": "code",
   "execution_count": 28,
   "metadata": {
    "colab": {
     "base_uri": "https://localhost:8080/",
     "height": 122
    },
    "colab_type": "code",
    "id": "jL-y4mezO7lK",
    "outputId": "18c6b496-1b2c-4e31-c8ec-24685f7445bf"
   },
   "outputs": [
    {
     "name": "stdout",
     "output_type": "stream",
     "text": [
      "Source path =  Project_data/val ; batch size = 8\n",
      "Source path =  Project_data/train ; batch size = 8\n",
      "Epoch 1/50\n"
     ]
    },
    {
     "name": "stderr",
     "output_type": "stream",
     "text": [
      "/mnt/disks/user/anaconda3/lib/python3.6/site-packages/skimage/transform/_warps.py:105: UserWarning: The default mode, 'constant', will be changed to 'reflect' in skimage 0.15.\n",
      "  warn(\"The default mode, 'constant', will be changed to 'reflect' in \"\n",
      "/mnt/disks/user/anaconda3/lib/python3.6/site-packages/skimage/transform/_warps.py:110: UserWarning: Anti-aliasing will be enabled by default in skimage 0.15 to avoid aliasing artifacts when down-sampling images.\n",
      "  warn(\"Anti-aliasing will be enabled by default in skimage 0.15 to \"\n"
     ]
    },
    {
     "name": "stdout",
     "output_type": "stream",
     "text": [
      "83/83 [==============================] - 190s 2s/step - loss: 1.6856 - categorical_accuracy: 0.2384 - val_loss: 1.5498 - val_categorical_accuracy: 0.2500\n",
      "\n",
      "Epoch 00001: saving model to model_init_2020-03-2213_43_41.173764/model-00001-1.68581-0.23831-1.54978-0.25000.h5\n",
      "Epoch 2/50\n",
      "83/83 [==============================] - 59s 715ms/step - loss: 1.5601 - categorical_accuracy: 0.2681 - val_loss: 1.5467 - val_categorical_accuracy: 0.1900\n",
      "\n",
      "Epoch 00002: saving model to model_init_2020-03-2213_43_41.173764/model-00002-1.55946-0.26848-1.54675-0.19000.h5\n",
      "Epoch 3/50\n",
      "83/83 [==============================] - 63s 760ms/step - loss: 1.4525 - categorical_accuracy: 0.3797 - val_loss: 1.6016 - val_categorical_accuracy: 0.2300\n",
      "\n",
      "Epoch 00003: saving model to model_init_2020-03-2213_43_41.173764/model-00003-1.45199-0.38009-1.60160-0.23000.h5\n",
      "Epoch 4/50\n",
      "83/83 [==============================] - 64s 765ms/step - loss: 1.3657 - categorical_accuracy: 0.4028 - val_loss: 1.7355 - val_categorical_accuracy: 0.2200\n",
      "\n",
      "Epoch 00004: saving model to model_init_2020-03-2213_43_41.173764/model-00004-1.36545-0.40271-1.73548-0.22000.h5\n",
      "Epoch 5/50\n",
      "83/83 [==============================] - 63s 760ms/step - loss: 1.3004 - categorical_accuracy: 0.4447 - val_loss: 1.3000 - val_categorical_accuracy: 0.4500\n",
      "\n",
      "Epoch 00005: saving model to model_init_2020-03-2213_43_41.173764/model-00005-1.29960-0.44495-1.29999-0.45000.h5\n",
      "Epoch 6/50\n",
      "83/83 [==============================] - 70s 839ms/step - loss: 1.2088 - categorical_accuracy: 0.4746 - val_loss: 1.3487 - val_categorical_accuracy: 0.4000\n",
      "\n",
      "Epoch 00006: saving model to model_init_2020-03-2213_43_41.173764/model-00006-1.20792-0.47511-1.34870-0.40000.h5\n",
      "Epoch 7/50\n",
      "83/83 [==============================] - 62s 752ms/step - loss: 1.1009 - categorical_accuracy: 0.5527 - val_loss: 1.9696 - val_categorical_accuracy: 0.2400\n",
      "\n",
      "Epoch 00007: saving model to model_init_2020-03-2213_43_41.173764/model-00007-1.09929-0.55354-1.96956-0.24000.h5\n",
      "Epoch 8/50\n",
      "83/83 [==============================] - 64s 776ms/step - loss: 1.0897 - categorical_accuracy: 0.5579 - val_loss: 1.3717 - val_categorical_accuracy: 0.3900\n",
      "\n",
      "Epoch 00008: saving model to model_init_2020-03-2213_43_41.173764/model-00008-1.08843-0.55807-1.37168-0.39000.h5\n",
      "Epoch 9/50\n",
      "83/83 [==============================] - 63s 760ms/step - loss: 1.0161 - categorical_accuracy: 0.5906 - val_loss: 1.5012 - val_categorical_accuracy: 0.3700\n",
      "\n",
      "Epoch 00009: saving model to model_init_2020-03-2213_43_41.173764/model-00009-1.01304-0.59125-1.50124-0.37000.h5\n",
      "Epoch 10/50\n",
      "83/83 [==============================] - 69s 831ms/step - loss: 0.9415 - categorical_accuracy: 0.6418 - val_loss: 2.9340 - val_categorical_accuracy: 0.2400\n",
      "\n",
      "Epoch 00010: saving model to model_init_2020-03-2213_43_41.173764/model-00010-0.93971-0.64253-2.93400-0.24000.h5\n",
      "Epoch 11/50\n",
      "83/83 [==============================] - 63s 760ms/step - loss: 0.8780 - categorical_accuracy: 0.6659 - val_loss: 1.0096 - val_categorical_accuracy: 0.6300\n",
      "\n",
      "Epoch 00011: saving model to model_init_2020-03-2213_43_41.173764/model-00011-0.87436-0.66667-1.00958-0.63000.h5\n",
      "Epoch 12/50\n",
      "83/83 [==============================] - 63s 755ms/step - loss: 0.7636 - categorical_accuracy: 0.7175 - val_loss: 1.9717 - val_categorical_accuracy: 0.2900\n",
      "\n",
      "Epoch 00012: saving model to model_init_2020-03-2213_43_41.173764/model-00012-0.76149-0.71795-1.97173-0.29000.h5\n",
      "Epoch 13/50\n",
      "83/83 [==============================] - 63s 762ms/step - loss: 0.7346 - categorical_accuracy: 0.7266 - val_loss: 1.1151 - val_categorical_accuracy: 0.5200\n",
      "\n",
      "Epoch 00013: saving model to model_init_2020-03-2213_43_41.173764/model-00013-0.73173-0.72700-1.11505-0.52000.h5\n",
      "Epoch 14/50\n",
      "83/83 [==============================] - 62s 753ms/step - loss: 0.6671 - categorical_accuracy: 0.7502 - val_loss: 1.7784 - val_categorical_accuracy: 0.3500\n",
      "\n",
      "Epoch 00014: saving model to model_init_2020-03-2213_43_41.173764/model-00014-0.66254-0.75113-1.77844-0.35000.h5\n",
      "Epoch 15/50\n",
      "83/83 [==============================] - 70s 840ms/step - loss: 0.6190 - categorical_accuracy: 0.7831 - val_loss: 1.4064 - val_categorical_accuracy: 0.4700\n",
      "\n",
      "Epoch 00015: saving model to model_init_2020-03-2213_43_41.173764/model-00015-0.61462-0.78431-1.40642-0.47000.h5\n",
      "Epoch 16/50\n",
      "83/83 [==============================] - 62s 749ms/step - loss: 0.5871 - categorical_accuracy: 0.8107 - val_loss: 1.2977 - val_categorical_accuracy: 0.4900\n",
      "\n",
      "Epoch 00016: saving model to model_init_2020-03-2213_43_41.173764/model-00016-0.58169-0.81146-1.29768-0.49000.h5\n",
      "Epoch 17/50\n",
      "83/83 [==============================] - 64s 771ms/step - loss: 0.5393 - categorical_accuracy: 0.8208 - val_loss: 1.1543 - val_categorical_accuracy: 0.5000\n",
      "\n",
      "Epoch 00017: saving model to model_init_2020-03-2213_43_41.173764/model-00017-0.53388-0.82202-1.15430-0.50000.h5\n",
      "Epoch 18/50\n",
      "83/83 [==============================] - 65s 783ms/step - loss: 0.5179 - categorical_accuracy: 0.8350 - val_loss: 1.6260 - val_categorical_accuracy: 0.3600\n",
      "\n",
      "Epoch 00018: saving model to model_init_2020-03-2213_43_41.173764/model-00018-0.51227-0.83560-1.62601-0.36000.h5\n",
      "Epoch 19/50\n",
      "83/83 [==============================] - 68s 825ms/step - loss: 0.4546 - categorical_accuracy: 0.8604 - val_loss: 1.4577 - val_categorical_accuracy: 0.4400\n",
      "\n",
      "Epoch 00019: saving model to model_init_2020-03-2213_43_41.173764/model-00019-0.44874-0.86124-1.45769-0.44000.h5\n",
      "Epoch 20/50\n",
      "83/83 [==============================] - 68s 823ms/step - loss: 0.4796 - categorical_accuracy: 0.8393 - val_loss: 1.1966 - val_categorical_accuracy: 0.5300\n",
      "\n",
      "Epoch 00020: saving model to model_init_2020-03-2213_43_41.173764/model-00020-0.47317-0.84012-1.19660-0.53000.h5\n",
      "Epoch 21/50\n",
      "83/83 [==============================] - 64s 770ms/step - loss: 0.4061 - categorical_accuracy: 0.8690 - val_loss: 2.0325 - val_categorical_accuracy: 0.3900\n",
      "\n",
      "Epoch 00021: saving model to model_init_2020-03-2213_43_41.173764/model-00021-0.39967-0.87029-2.03250-0.39000.h5\n",
      "Epoch 22/50\n",
      "83/83 [==============================] - 67s 806ms/step - loss: 0.4126 - categorical_accuracy: 0.8690 - val_loss: 1.0484 - val_categorical_accuracy: 0.5400\n",
      "\n",
      "Epoch 00022: saving model to model_init_2020-03-2213_43_41.173764/model-00022-0.40667-0.87029-1.04842-0.54000.h5\n",
      "Epoch 23/50\n",
      "83/83 [==============================] - 62s 747ms/step - loss: 0.3574 - categorical_accuracy: 0.9023 - val_loss: 1.8099 - val_categorical_accuracy: 0.4700\n",
      "\n",
      "Epoch 00023: saving model to model_init_2020-03-2213_43_41.173764/model-00023-0.34962-0.90347-1.80994-0.47000.h5\n",
      "Epoch 24/50\n",
      "83/83 [==============================] - 62s 747ms/step - loss: 0.3413 - categorical_accuracy: 0.9038 - val_loss: 2.5339 - val_categorical_accuracy: 0.3500\n",
      "\n",
      "Epoch 00024: saving model to model_init_2020-03-2213_43_41.173764/model-00024-0.33178-0.90498-2.53393-0.35000.h5\n",
      "Epoch 25/50\n",
      "83/83 [==============================] - 65s 780ms/step - loss: 0.2892 - categorical_accuracy: 0.9208 - val_loss: 2.2843 - val_categorical_accuracy: 0.2600\n",
      "\n",
      "Epoch 00025: saving model to model_init_2020-03-2213_43_41.173764/model-00025-0.28517-0.92157-2.28428-0.26000.h5\n",
      "Epoch 26/50\n",
      "83/83 [==============================] - 63s 764ms/step - loss: 0.2675 - categorical_accuracy: 0.9236 - val_loss: 1.5074 - val_categorical_accuracy: 0.4700\n",
      "\n",
      "Epoch 00026: saving model to model_init_2020-03-2213_43_41.173764/model-00026-0.26295-0.92459-1.50740-0.47000.h5\n",
      "Epoch 27/50\n",
      "83/83 [==============================] - 74s 890ms/step - loss: 0.2459 - categorical_accuracy: 0.9277 - val_loss: 1.5180 - val_categorical_accuracy: 0.4900\n",
      "\n",
      "Epoch 00027: saving model to model_init_2020-03-2213_43_41.173764/model-00027-0.23968-0.92911-1.51802-0.49000.h5\n",
      "Epoch 28/50\n",
      "83/83 [==============================] - 70s 843ms/step - loss: 0.2475 - categorical_accuracy: 0.9353 - val_loss: 1.7993 - val_categorical_accuracy: 0.4600\n",
      "\n",
      "Epoch 00028: saving model to model_init_2020-03-2213_43_41.173764/model-00028-0.24043-0.93665-1.79933-0.46000.h5\n",
      "Epoch 29/50\n",
      "83/83 [==============================] - 73s 877ms/step - loss: 0.2970 - categorical_accuracy: 0.9353 - val_loss: 1.4726 - val_categorical_accuracy: 0.5100\n",
      "\n",
      "Epoch 00029: saving model to model_init_2020-03-2213_43_41.173764/model-00029-0.28487-0.93665-1.47263-0.51000.h5\n",
      "Epoch 30/50\n"
     ]
    },
    {
     "name": "stdout",
     "output_type": "stream",
     "text": [
      "83/83 [==============================] - 62s 749ms/step - loss: 0.2886 - categorical_accuracy: 0.9264 - val_loss: 1.1968 - val_categorical_accuracy: 0.6200\n",
      "\n",
      "Epoch 00030: saving model to model_init_2020-03-2213_43_41.173764/model-00030-0.27738-0.92760-1.19679-0.62000.h5\n",
      "Epoch 31/50\n",
      "83/83 [==============================] - 62s 751ms/step - loss: 0.1998 - categorical_accuracy: 0.9525 - val_loss: 1.9230 - val_categorical_accuracy: 0.4900\n",
      "\n",
      "Epoch 00031: saving model to model_init_2020-03-2213_43_41.173764/model-00031-0.19467-0.95324-1.92303-0.49000.h5\n",
      "Epoch 32/50\n",
      "83/83 [==============================] - 71s 851ms/step - loss: 0.2347 - categorical_accuracy: 0.9447 - val_loss: 1.7188 - val_categorical_accuracy: 0.5100\n",
      "\n",
      "Epoch 00032: saving model to model_init_2020-03-2213_43_41.173764/model-00032-0.22834-0.94570-1.71880-0.51000.h5\n",
      "Epoch 33/50\n",
      "83/83 [==============================] - 69s 835ms/step - loss: 0.2097 - categorical_accuracy: 0.9443 - val_loss: 1.9934 - val_categorical_accuracy: 0.4200\n",
      "\n",
      "Epoch 00033: saving model to model_init_2020-03-2213_43_41.173764/model-00033-0.20183-0.94570-1.99344-0.42000.h5\n",
      "Epoch 34/50\n",
      "83/83 [==============================] - 72s 872ms/step - loss: 0.2138 - categorical_accuracy: 0.9462 - val_loss: 1.5655 - val_categorical_accuracy: 0.5100\n",
      "\n",
      "Epoch 00034: saving model to model_init_2020-03-2213_43_41.173764/model-00034-0.20556-0.94721-1.56546-0.51000.h5\n",
      "Epoch 35/50\n",
      "83/83 [==============================] - 72s 871ms/step - loss: 0.1938 - categorical_accuracy: 0.9596 - val_loss: 2.4723 - val_categorical_accuracy: 0.4900\n",
      "\n",
      "Epoch 00035: saving model to model_init_2020-03-2213_43_41.173764/model-00035-0.18425-0.96078-2.47234-0.49000.h5\n",
      "Epoch 36/50\n",
      "83/83 [==============================] - 65s 779ms/step - loss: 0.1842 - categorical_accuracy: 0.9566 - val_loss: 1.3527 - val_categorical_accuracy: 0.5400\n",
      "\n",
      "Epoch 00036: saving model to model_init_2020-03-2213_43_41.173764/model-00036-0.17641-0.95777-1.35270-0.54000.h5\n",
      "Epoch 37/50\n",
      "83/83 [==============================] - 62s 753ms/step - loss: 0.1806 - categorical_accuracy: 0.9673 - val_loss: 1.4022 - val_categorical_accuracy: 0.5800\n",
      "\n",
      "Epoch 00037: saving model to model_init_2020-03-2213_43_41.173764/model-00037-0.17264-0.96833-1.40215-0.58000.h5\n",
      "Epoch 38/50\n",
      "83/83 [==============================] - 69s 836ms/step - loss: 0.1965 - categorical_accuracy: 0.9716 - val_loss: 1.7572 - val_categorical_accuracy: 0.4700\n",
      "\n",
      "Epoch 00038: saving model to model_init_2020-03-2213_43_41.173764/model-00038-0.18528-0.97285-1.75717-0.47000.h5\n",
      "Epoch 39/50\n",
      "83/83 [==============================] - 62s 751ms/step - loss: 0.1677 - categorical_accuracy: 0.9733 - val_loss: 1.3705 - val_categorical_accuracy: 0.5900\n",
      "\n",
      "Epoch 00039: saving model to model_init_2020-03-2213_43_41.173764/model-00039-0.15842-0.97436-1.37051-0.59000.h5\n",
      "Epoch 40/50\n",
      "83/83 [==============================] - 62s 747ms/step - loss: 0.1591 - categorical_accuracy: 0.9617 - val_loss: 0.9661 - val_categorical_accuracy: 0.6500\n",
      "\n",
      "Epoch 00040: saving model to model_init_2020-03-2213_43_41.173764/model-00040-0.15422-0.96229-0.96613-0.65000.h5\n",
      "Epoch 41/50\n",
      "83/83 [==============================] - 63s 754ms/step - loss: 0.1959 - categorical_accuracy: 0.9626 - val_loss: 7.6497 - val_categorical_accuracy: 0.2300\n",
      "\n",
      "Epoch 00041: saving model to model_init_2020-03-2213_43_41.173764/model-00041-0.18254-0.96380-7.64973-0.23000.h5\n",
      "Epoch 42/50\n",
      "83/83 [==============================] - 64s 770ms/step - loss: 0.1071 - categorical_accuracy: 0.9781 - val_loss: 3.1909 - val_categorical_accuracy: 0.3700\n",
      "\n",
      "Epoch 00042: saving model to model_init_2020-03-2213_43_41.173764/model-00042-0.10237-0.97888-3.19089-0.37000.h5\n",
      "Epoch 43/50\n",
      "83/83 [==============================] - 72s 870ms/step - loss: 0.1780 - categorical_accuracy: 0.9671 - val_loss: 3.4914 - val_categorical_accuracy: 0.4300\n",
      "\n",
      "Epoch 00043: saving model to model_init_2020-03-2213_43_41.173764/model-00043-0.16646-0.96833-3.49140-0.43000.h5\n",
      "Epoch 44/50\n",
      "83/83 [==============================] - 68s 820ms/step - loss: 0.2485 - categorical_accuracy: 0.9563 - val_loss: 1.5146 - val_categorical_accuracy: 0.5700\n",
      "\n",
      "Epoch 00044: saving model to model_init_2020-03-2213_43_41.173764/model-00044-0.23176-0.95777-1.51459-0.57000.h5\n",
      "Epoch 45/50\n",
      "83/83 [==============================] - 64s 769ms/step - loss: 0.1640 - categorical_accuracy: 0.9774 - val_loss: 1.0565 - val_categorical_accuracy: 0.6400\n",
      "\n",
      "Epoch 00045: saving model to model_init_2020-03-2213_43_41.173764/model-00045-0.15267-0.97888-1.05654-0.64000.h5\n",
      "Epoch 46/50\n",
      "83/83 [==============================] - 62s 750ms/step - loss: 0.2199 - categorical_accuracy: 0.9699 - val_loss: 1.5435 - val_categorical_accuracy: 0.5000\n",
      "\n",
      "Epoch 00046: saving model to model_init_2020-03-2213_43_41.173764/model-00046-0.20472-0.97134-1.54346-0.50000.h5\n",
      "Epoch 47/50\n",
      "83/83 [==============================] - 65s 785ms/step - loss: 0.1676 - categorical_accuracy: 0.9729 - val_loss: 3.8598 - val_categorical_accuracy: 0.3400\n",
      "\n",
      "Epoch 00047: saving model to model_init_2020-03-2213_43_41.173764/model-00047-0.15785-0.97436-3.85984-0.34000.h5\n",
      "Epoch 48/50\n",
      "83/83 [==============================] - 68s 816ms/step - loss: 0.1184 - categorical_accuracy: 0.9796 - val_loss: 1.4984 - val_categorical_accuracy: 0.5600\n",
      "\n",
      "Epoch 00048: saving model to model_init_2020-03-2213_43_41.173764/model-00048-0.11178-0.98039-1.49837-0.56000.h5\n",
      "Epoch 49/50\n",
      "83/83 [==============================] - 70s 841ms/step - loss: 0.1388 - categorical_accuracy: 0.9869 - val_loss: 2.8500 - val_categorical_accuracy: 0.4200\n",
      "\n",
      "Epoch 00049: saving model to model_init_2020-03-2213_43_41.173764/model-00049-0.12796-0.98793-2.85003-0.42000.h5\n",
      "Epoch 50/50\n",
      "83/83 [==============================] - 62s 752ms/step - loss: 0.2077 - categorical_accuracy: 0.9669 - val_loss: 1.8204 - val_categorical_accuracy: 0.5100\n",
      "\n",
      "Epoch 00050: saving model to model_init_2020-03-2213_43_41.173764/model-00050-0.19162-0.96833-1.82037-0.51000.h5\n"
     ]
    }
   ],
   "source": [
    "modelhistory = model.fit_generator(train_generator, steps_per_epoch=steps_per_epoch, epochs=num_epochs, verbose=1, \n",
    "                                   callbacks=callbacks_list, validation_data=val_generator, \n",
    "                                   validation_steps=validation_steps, class_weight=None, workers=1, initial_epoch=0)"
   ]
  },
  {
   "cell_type": "code",
   "execution_count": 29,
   "metadata": {
    "colab": {},
    "colab_type": "code",
    "id": "TmBY1RwaqA0_"
   },
   "outputs": [],
   "source": [
    "acc = modelhistory.history['categorical_accuracy']\n",
    "val_acc = modelhistory.history['val_categorical_accuracy']\n",
    "loss = modelhistory.history['loss']\n",
    "val_loss = modelhistory.history['val_loss']"
   ]
  },
  {
   "cell_type": "code",
   "execution_count": 30,
   "metadata": {
    "colab": {},
    "colab_type": "code",
    "id": "5K0Loo4wqn6k"
   },
   "outputs": [
    {
     "data": {
      "image/png": "[encoded data removed]",
      "text/plain": [
       "<Figure size 576x576 with 2 Axes>"
      ]
     },
     "metadata": {},
     "output_type": "display_data"
    }
   ],
   "source": [
    "plt.figure(figsize=(8, 8))\n",
    "plt.subplot(2, 1, 1)\n",
    "plt.plot(acc, label='Training Accuracy')\n",
    "plt.plot(val_acc, label='Validation Accuracy')\n",
    "plt.plot([num_epochs-1,num_epochs-1],\n",
    "          plt.ylim(), label='Start Fine Tuning')\n",
    "plt.legend(loc='lower right')\n",
    "plt.title('Training and Validation Accuracy')\n",
    "\n",
    "plt.subplot(2, 1, 2)\n",
    "plt.plot(loss, label='Training Loss')\n",
    "plt.plot(val_loss, label='Validation Loss')\n",
    "plt.plot([num_epochs-1,num_epochs-1],\n",
    "         plt.ylim(), label='Start Fine Tuning')\n",
    "plt.legend(loc='upper right')\n",
    "plt.title('Training and Validation Loss')\n",
    "plt.xlabel('epoch')\n",
    "plt.show()"
   ]
  },
  {
   "cell_type": "code",
   "execution_count": null,
   "metadata": {},
   "outputs": [],
   "source": [
    " \n",
    "    "
   ]
  }
 ],
 "metadata": {
  "accelerator": "GPU",
  "colab": {
   "collapsed_sections": [],
   "include_colab_link": true,
   "name": "Gesture_Recognition_Code.ipynb",
   "provenance": [],
   "toc_visible": true
  },
  "kernelspec": {
   "display_name": "Python 3",
   "language": "python",
   "name": "python3"
  },
  "language_info": {
   "codemirror_mode": {
    "name": "ipython",
    "version": 3
   },
   "file_extension": ".py",
   "mimetype": "text/x-python",
   "name": "python",
   "nbconvert_exporter": "python",
   "pygments_lexer": "ipython3",
   "version": "3.6.8"
  }
 },
 "nbformat": 4,
 "nbformat_minor": 1
}
